{
 "cells": [
  {
   "metadata": {},
   "cell_type": "markdown",
   "source": "原数据",
   "id": "c197bf4ba46e9c3e"
  },
  {
   "cell_type": "code",
   "id": "initial_id",
   "metadata": {
    "collapsed": true,
    "ExecuteTime": {
     "end_time": "2024-11-23T07:51:23.112193Z",
     "start_time": "2024-11-23T07:51:23.103155Z"
    }
   },
   "source": [
    "import pandas as pd\n",
    "data = pd.DataFrame(data={'fruit': [\"banana\", \"apple\", \"banana\", \"apple\", \"banana\",\"apple\", \"banana\",\n",
    "                                    \"apple\", \"apple\", \"apple\", \"banana\", \"banana\", \"apple\", \"banana\",],\n",
    "                          'tasty': [\"yes\", \"no\", \"yes\", \"yes\", \"yes\", \"yes\", \"yes\",\n",
    "                                    \"yes\", \"yes\", \"yes\", \"yes\", \"no\", \"no\", \"no\"],\n",
    "                          'size': [\"large\", \"large\", \"large\", \"small\", \"large\", \"large\", \"large\",\n",
    "                                    \"small\", \"large\", \"large\", \"large\", \"large\", \"small\", \"small\"]})\n",
    "print(data)"
   ],
   "outputs": [
    {
     "name": "stdout",
     "output_type": "stream",
     "text": [
      "     fruit tasty   size\n",
      "0   banana   yes  large\n",
      "1    apple    no  large\n",
      "2   banana   yes  large\n",
      "3    apple   yes  small\n",
      "4   banana   yes  large\n",
      "5    apple   yes  large\n",
      "6   banana   yes  large\n",
      "7    apple   yes  small\n",
      "8    apple   yes  large\n",
      "9    apple   yes  large\n",
      "10  banana   yes  large\n",
      "11  banana    no  large\n",
      "12   apple    no  small\n",
      "13  banana    no  small\n"
     ]
    }
   ],
   "execution_count": 12
  },
  {
   "metadata": {},
   "cell_type": "markdown",
   "source": "构建贝叶斯网络",
   "id": "b9625f42057d0ed5"
  },
  {
   "metadata": {
    "ExecuteTime": {
     "end_time": "2024-11-23T07:51:23.136570Z",
     "start_time": "2024-11-23T07:51:23.131105Z"
    }
   },
   "cell_type": "code",
   "source": [
    "from pgmpy.models import BayesianModel\n",
    "\n",
    "model = BayesianModel([('fruit', 'tasty'), ('size', 'tasty')])  # fruit -> tasty <- size"
   ],
   "id": "651bca137d8a96a2",
   "outputs": [
    {
     "name": "stderr",
     "output_type": "stream",
     "text": [
      "WARNING:pgmpy:BayesianModel has been renamed to BayesianNetwork. Please use BayesianNetwork class, BayesianModel will be removed in future.\n"
     ]
    }
   ],
   "execution_count": 13
  },
  {
   "metadata": {},
   "cell_type": "markdown",
   "source": [
    "分别查看每种类型的数据量\n",
    "\n",
    "比如下面就要用``ParameterEstimator``来数原数据中有哪些状态\n",
    "\n",
    "结果显示，直接数水果种类的话（``pe.state_counts('fruit')``），有7个苹果7个香蕉\n",
    "\n",
    "直接数水果味道（``pe.state_counts('tasty')``）的话，苹果中大苹果好吃的3个，不好吃的1个......"
   ],
   "id": "3498c3b2e51f6ff7"
  },
  {
   "metadata": {
    "ExecuteTime": {
     "end_time": "2024-11-23T07:51:23.163751Z",
     "start_time": "2024-11-23T07:51:23.154762Z"
    }
   },
   "cell_type": "code",
   "source": [
    "from pgmpy.estimators import ParameterEstimator\n",
    "pe = ParameterEstimator(model, data)\n",
    "print(\"\\n\", pe.state_counts('fruit'))  # unconditional\n",
    "print(\"\\n\", pe.state_counts('tasty'))  # conditional on fruit and size"
   ],
   "id": "6ec5e5249b7db868",
   "outputs": [
    {
     "name": "stdout",
     "output_type": "stream",
     "text": [
      "\n",
      "         fruit\n",
      "apple       7\n",
      "banana      7\n",
      "\n",
      " fruit apple       banana      \n",
      "size  large small  large small\n",
      "tasty                         \n",
      "no      1.0   1.0    1.0   1.0\n",
      "yes     3.0   2.0    5.0   0.0\n"
     ]
    }
   ],
   "execution_count": 14
  },
  {
   "metadata": {},
   "cell_type": "markdown",
   "source": [
    "## 概率分布估计（贝叶斯参数估计）·最大似然估计MLE\n",
    "\n",
    "接下来进行最大似然估计（Maximum Likelihood Estimation）\n",
    "\n",
    "基于数据，我们可以估计出各个节点的概率分布"
   ],
   "id": "8edbfb3084f2b19"
  },
  {
   "metadata": {
    "ExecuteTime": {
     "end_time": "2024-11-23T07:51:23.179268Z",
     "start_time": "2024-11-23T07:51:23.172291Z"
    }
   },
   "cell_type": "code",
   "source": [
    "from pgmpy.estimators import MaximumLikelihoodEstimator\n",
    "mle = MaximumLikelihoodEstimator(model, data)\n",
    "print(mle.estimate_cpd('fruit'))  # 计算fruit的概率分布，由于fruit没有父节点，因此是无约束的\n",
    "print(mle.estimate_cpd('tasty'))  # 计算tasty的概率分布，由于tasty有fruit和size两个父节点，因此需要考虑这两个节点的概率"
   ],
   "id": "6a49c677924f6a6c",
   "outputs": [
    {
     "name": "stdout",
     "output_type": "stream",
     "text": [
      "+---------------+-----+\n",
      "| fruit(apple)  | 0.5 |\n",
      "+---------------+-----+\n",
      "| fruit(banana) | 0.5 |\n",
      "+---------------+-----+\n",
      "+------------+--------------+-----+---------------+\n",
      "| fruit      | fruit(apple) | ... | fruit(banana) |\n",
      "+------------+--------------+-----+---------------+\n",
      "| size       | size(large)  | ... | size(small)   |\n",
      "+------------+--------------+-----+---------------+\n",
      "| tasty(no)  | 0.25         | ... | 1.0           |\n",
      "+------------+--------------+-----+---------------+\n",
      "| tasty(yes) | 0.75         | ... | 0.0           |\n",
      "+------------+--------------+-----+---------------+\n"
     ]
    }
   ],
   "execution_count": 15
  },
  {
   "metadata": {
    "ExecuteTime": {
     "end_time": "2024-11-23T07:51:23.259090Z",
     "start_time": "2024-11-23T07:51:23.251173Z"
    }
   },
   "cell_type": "code",
   "source": [
    "para = mle.get_parameters() # 可以用get_parameters获取所有参数\n",
    "print(para[1])"
   ],
   "id": "7cb1b095a9d202a",
   "outputs": [
    {
     "name": "stdout",
     "output_type": "stream",
     "text": [
      "+------------+--------------+-----+---------------+\n",
      "| fruit      | fruit(apple) | ... | fruit(banana) |\n",
      "+------------+--------------+-----+---------------+\n",
      "| size       | size(large)  | ... | size(small)   |\n",
      "+------------+--------------+-----+---------------+\n",
      "| tasty(no)  | 0.25         | ... | 1.0           |\n",
      "+------------+--------------+-----+---------------+\n",
      "| tasty(yes) | 0.75         | ... | 0.0           |\n",
      "+------------+--------------+-----+---------------+\n"
     ]
    }
   ],
   "execution_count": 16
  },
  {
   "metadata": {},
   "cell_type": "markdown",
   "source": [
    "## 概率分布估计（贝叶斯参数估计）·贝叶斯估计BPE\n",
    "\n",
    "贝叶斯估计是使用已有的CPD和样本数据结合进行估计的方法，首先基于我们的先验概率表CPD给出一个概率估计，然后再使用数据进行修正。\n",
    "\n",
    "贝叶斯估计中的先验设定包含两种常见的先验概率：K2 和 BDeu。\n",
    "K2先验只是将每个状态的计数加1。而一个稍微更合理的选择是BDeu（贝叶斯Dirichlet等价均匀）先验。对于BDeu，我们需要指定一个等价样本大小N，然后伪计数就相当于观察到N个均匀样本（以及每个父配置的状态）。"
   ],
   "id": "71f6d78a06d49f23"
  },
  {
   "metadata": {
    "ExecuteTime": {
     "end_time": "2024-11-23T07:55:38.718752Z",
     "start_time": "2024-11-23T07:55:38.702582Z"
    }
   },
   "cell_type": "code",
   "source": [
    "from pgmpy.estimators import BayesianEstimator\n",
    "est = BayesianEstimator(model, data)\n",
    "\n",
    "print(est.estimate_cpd('tasty', prior_type='BDeu', equivalent_sample_size=10))# 使用BDeu作为先验概率，其中10是等价样本的大小，对于tasty状态而言，equivalent_sample_size为10意味着对于每个父配置，我们添加了相当于10个均匀样本的伪计数（在这里：+5个小香蕉是美味的，+5个不是）。\n",
    "print(est.estimate_cpd('tasty', prior_type='K2'))# 使用K2作为先验概率\n"
   ],
   "id": "c0ef3346547bad1e",
   "outputs": [
    {
     "name": "stdout",
     "output_type": "stream",
     "text": [
      "+------------+---------------------+-----+---------------------+\n",
      "| fruit      | fruit(apple)        | ... | fruit(banana)       |\n",
      "+------------+---------------------+-----+---------------------+\n",
      "| size       | size(large)         | ... | size(small)         |\n",
      "+------------+---------------------+-----+---------------------+\n",
      "| tasty(no)  | 0.34615384615384615 | ... | 0.6428571428571429  |\n",
      "+------------+---------------------+-----+---------------------+\n",
      "| tasty(yes) | 0.6538461538461539  | ... | 0.35714285714285715 |\n",
      "+------------+---------------------+-----+---------------------+\n",
      "+------------+--------------------+-----+--------------------+\n",
      "| fruit      | fruit(apple)       | ... | fruit(banana)      |\n",
      "+------------+--------------------+-----+--------------------+\n",
      "| size       | size(large)        | ... | size(small)        |\n",
      "+------------+--------------------+-----+--------------------+\n",
      "| tasty(no)  | 0.3333333333333333 | ... | 0.6666666666666666 |\n",
      "+------------+--------------------+-----+--------------------+\n",
      "| tasty(yes) | 0.6666666666666666 | ... | 0.3333333333333333 |\n",
      "+------------+--------------------+-----+--------------------+\n"
     ]
    }
   ],
   "execution_count": 17
  },
  {
   "metadata": {},
   "cell_type": "code",
   "outputs": [],
   "execution_count": null,
   "source": "",
   "id": "6635a9df67a35953"
  }
 ],
 "metadata": {
  "kernelspec": {
   "display_name": "Python 3",
   "language": "python",
   "name": "python3"
  },
  "language_info": {
   "codemirror_mode": {
    "name": "ipython",
    "version": 2
   },
   "file_extension": ".py",
   "mimetype": "text/x-python",
   "name": "python",
   "nbconvert_exporter": "python",
   "pygments_lexer": "ipython2",
   "version": "2.7.6"
  }
 },
 "nbformat": 4,
 "nbformat_minor": 5
}
