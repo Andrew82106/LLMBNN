{
 "cells": [
  {
   "cell_type": "code",
   "id": "initial_id",
   "metadata": {
    "collapsed": true,
    "ExecuteTime": {
     "end_time": "2024-11-24T13:45:21.990340Z",
     "start_time": "2024-11-24T13:45:19.484904Z"
    }
   },
   "source": [
    "from Lab1_CausalGenerationResultAnalysis.M_Star import generate_BNN_MStar\n",
    "from Lab1_CausalGenerationResultAnalysis.GenerateBNAndData import *\n",
    "from Lab1_CausalGenerationResultAnalysis.evaluate import predict, calculate_metrics\n",
    "import pandas as pd"
   ],
   "outputs": [],
   "execution_count": 1
  },
  {
   "metadata": {
    "ExecuteTime": {
     "end_time": "2024-11-24T13:45:21.997118Z",
     "start_time": "2024-11-24T13:45:21.994119Z"
    }
   },
   "cell_type": "code",
   "source": [
    "aim_graph = 'Child'\n",
    "\n",
    "if aim_graph == 'Asia':\n",
    "    define_df_pth = \"/Users/andrewlee/Desktop/Projects/实验室/114项目/Lab1_CausalGenerationResultAnalysis/Asia/asiaDefineChinese.csv\"\n",
    "\n",
    "    bif_file_path = '/Users/andrewlee/Desktop/Projects/实验室/114项目/Lab1_CausalGenerationResultAnalysis/Asia/asia.bif'\n",
    "\n",
    "    aim = ['xray', 'dysp']\n",
    "\n",
    "elif aim_graph == 'Insurance':\n",
    "    define_df_pth = \"/Users/andrewlee/Desktop/Projects/实验室/114项目/Lab1_CausalGenerationResultAnalysis/Insurance/InsuranceDefineChinese.csv\"\n",
    "\n",
    "    bif_file_path = '/Users/andrewlee/Desktop/Projects/实验室/114项目/Lab1_CausalGenerationResultAnalysis/Insurance/insurance.bif'\n",
    "\n",
    "    aim = ['PropCost', 'ThisCarCost', 'ThisCarDam', 'OtherCarCost', 'ILiCost']\n",
    "\n",
    "elif aim_graph == 'Child':\n",
    "    define_df_pth = \"/Users/andrewlee/Desktop/Projects/实验室/114项目/Lab1_CausalGenerationResultAnalysis/Child/ChildDefineChinese.csv\"\n",
    "\n",
    "    bif_file_path = '/Users/andrewlee/Desktop/Projects/实验室/114项目/Lab1_CausalGenerationResultAnalysis/Child/child.bif'\n",
    "\n",
    "    aim = ['GruntingReport', 'LowerBodyO2', 'RUQO2', 'CO2Report', 'XrayReport']\n",
    "\n",
    "else:\n",
    "    raise Exception(\"aim_graph not found!\")"
   ],
   "id": "cac63f2c05919be7",
   "outputs": [],
   "execution_count": 2
  },
  {
   "metadata": {},
   "cell_type": "markdown",
   "source": "# 读取节点信息",
   "id": "48be47b29d1795d6"
  },
  {
   "metadata": {
    "ExecuteTime": {
     "end_time": "2024-11-24T13:45:22.139235Z",
     "start_time": "2024-11-24T13:45:22.134148Z"
    }
   },
   "cell_type": "code",
   "source": [
    "define_df = pd.read_csv(define_df_pth)\n",
    "node_names = list(define_df['var_name'])\n",
    "node_detail = list(define_df['var_description'])\n",
    "node_detail"
   ],
   "id": "526c936459bf58e9",
   "outputs": [
    {
     "data": {
      "text/plain": [
       "['婴儿出生时血液中氧气不足',\n",
       " '婴儿高铁血红蛋白血症',\n",
       " '婴儿出现疾病时的年龄',\n",
       " '左心室肥厚',\n",
       " '动脉导管中的血流',\n",
       " '氧合血和脱氧血的混合',\n",
       " '肺部血管的状态',\n",
       " '肺部血流量低',\n",
       " '存在疾病',\n",
       " '身体各部位均匀分布的低氧区域',\n",
       " '吸氧时的低氧状态',\n",
       " '体内二氧化碳水平',\n",
       " '进行了胸部X光检查',\n",
       " '婴儿发出的哼声',\n",
       " '有关左心室肥厚的报告',\n",
       " '下身的氧含量',\n",
       " '右大腿前侧肌肉的氧含量',\n",
       " '报告血液中高水平二氧化碳的文件',\n",
       " '肺部过度充血的X光报告',\n",
       " '有关婴儿发出哼声的报告']"
      ]
     },
     "execution_count": 3,
     "metadata": {},
     "output_type": "execute_result"
    }
   ],
   "execution_count": 3
  },
  {
   "metadata": {},
   "cell_type": "markdown",
   "source": "# 读取原BN模型",
   "id": "91884c5c9658747a"
  },
  {
   "metadata": {
    "ExecuteTime": {
     "end_time": "2024-11-24T13:45:27.048719Z",
     "start_time": "2024-11-24T13:45:22.146845Z"
    }
   },
   "cell_type": "code",
   "source": [
    "\n",
    "origin_model = define_bayesian_network_from_bif(bif_file_path)\n",
    "type(origin_model)"
   ],
   "id": "18b783bb4bce093e",
   "outputs": [
    {
     "data": {
      "text/plain": [
       "pgmpy.models.BayesianNetwork.BayesianNetwork"
      ]
     },
     "execution_count": 4,
     "metadata": {},
     "output_type": "execute_result"
    }
   ],
   "execution_count": 4
  },
  {
   "metadata": {},
   "cell_type": "markdown",
   "source": "# 读取M*的BN模型",
   "id": "373cf9a14eb6100d"
  },
  {
   "metadata": {
    "ExecuteTime": {
     "end_time": "2024-11-24T13:46:31.070159Z",
     "start_time": "2024-11-24T13:45:27.063742Z"
    }
   },
   "cell_type": "code",
   "source": [
    "MStar_model = generate_BNN_MStar(node_names, node_detail)\n",
    "MStar_model.edges()"
   ],
   "id": "2dad5cb50b8b8ba6",
   "outputs": [
    {
     "name": "stdout",
     "output_type": "stream",
     "text": [
      "waiting for LLM response of M*(stage 1/2):\n"
     ]
    },
    {
     "name": "stderr",
     "output_type": "stream",
     "text": [
      "INFO:httpx:HTTP Request: POST https://dashscope.aliyuncs.com/compatible-mode/v1/chat/completions \"HTTP/1.1 200 OK\"\n"
     ]
    },
    {
     "name": "stdout",
     "output_type": "stream",
     "text": [
      "waiting for LLM response of M*(stage 2/2)\n"
     ]
    },
    {
     "name": "stderr",
     "output_type": "stream",
     "text": [
      "INFO:httpx:HTTP Request: POST https://dashscope.aliyuncs.com/compatible-mode/v1/chat/completions \"HTTP/1.1 200 OK\"\n"
     ]
    },
    {
     "data": {
      "text/plain": [
       "OutEdgeView([('BirthAsphyxia', 'HypoxiaInO2'), ('BirthAsphyxia', 'CardiacMixing'), ('BirthAsphyxia', 'LungFlow'), ('BirthAsphyxia', 'LungParench'), ('HypoxiaInO2', 'HypDistrib'), ('HypoxiaInO2', 'CO2'), ('HypoxiaInO2', 'Disease'), ('CardiacMixing', 'LVH'), ('HypDistrib', 'Grunting'), ('HypDistrib', 'ChestXray'), ('HypDistrib', 'LowerBodyO2'), ('HypDistrib', 'RUQO2'), ('CO2', 'CO2Report'), ('Disease', 'Sick'), ('LVH', 'LVHreport'), ('Grunting', 'GruntingReport'), ('ChestXray', 'XrayReport')])"
      ]
     },
     "execution_count": 5,
     "metadata": {},
     "output_type": "execute_result"
    }
   ],
   "execution_count": 5
  },
  {
   "metadata": {},
   "cell_type": "markdown",
   "source": "# 反演生成测试数据",
   "id": "3ce4c9528547a713"
  },
  {
   "metadata": {
    "ExecuteTime": {
     "end_time": "2024-11-24T13:46:31.219189Z",
     "start_time": "2024-11-24T13:46:31.101460Z"
    }
   },
   "cell_type": "code",
   "source": [
    "samples_data = generate_samples(origin_model, 5000)\n",
    "origin_model.remove_cpds()"
   ],
   "id": "82e578fc604ecf44",
   "outputs": [
    {
     "data": {
      "text/plain": [
       "  0%|          | 0/20 [00:00<?, ?it/s]"
      ],
      "application/vnd.jupyter.widget-view+json": {
       "version_major": 2,
       "version_minor": 0,
       "model_id": "52578b78e9604e5787e02cdf8855f87a"
      }
     },
     "metadata": {},
     "output_type": "display_data"
    },
    {
     "name": "stderr",
     "output_type": "stream",
     "text": [
      "WARNING:pgmpy:Probability values don't exactly sum to 1. Differ by: -2.220446049250313e-16. Adjusting values.\n",
      "WARNING:pgmpy:Probability values don't exactly sum to 1. Differ by: -2.220446049250313e-16. Adjusting values.\n",
      "WARNING:pgmpy:Probability values don't exactly sum to 1. Differ by: 2.220446049250313e-16. Adjusting values.\n",
      "WARNING:pgmpy:Probability values don't exactly sum to 1. Differ by: -2.220446049250313e-16. Adjusting values.\n",
      "WARNING:pgmpy:Probability values don't exactly sum to 1. Differ by: -2.220446049250313e-16. Adjusting values.\n",
      "WARNING:pgmpy:Probability values don't exactly sum to 1. Differ by: -2.220446049250313e-16. Adjusting values.\n",
      "WARNING:pgmpy:Probability values don't exactly sum to 1. Differ by: 3.3306690738754696e-16. Adjusting values.\n"
     ]
    }
   ],
   "execution_count": 6
  },
  {
   "metadata": {},
   "cell_type": "markdown",
   "source": "# 评测",
   "id": "acc6b02d7c720af3"
  },
  {
   "metadata": {},
   "cell_type": "markdown",
   "source": "## 评测原模型",
   "id": "c23cff92a237c2e2"
  },
  {
   "metadata": {
    "ExecuteTime": {
     "end_time": "2024-11-24T13:46:33.603379Z",
     "start_time": "2024-11-24T13:46:31.230674Z"
    }
   },
   "cell_type": "code",
   "source": "predict_result = predict(origin_model, samples_data, aim)",
   "id": "5acc25f03963603e",
   "outputs": [
    {
     "name": "stderr",
     "output_type": "stream",
     "text": [
      "WARNING:pgmpy:Replacing existing CPD for BirthAsphyxia\n",
      "WARNING:pgmpy:Replacing existing CPD for HypDistrib\n",
      "WARNING:pgmpy:Replacing existing CPD for HypoxiaInO2\n",
      "WARNING:pgmpy:Replacing existing CPD for CO2\n",
      "WARNING:pgmpy:Replacing existing CPD for ChestXray\n",
      "WARNING:pgmpy:Replacing existing CPD for Grunting\n",
      "WARNING:pgmpy:Replacing existing CPD for LVHreport\n",
      "WARNING:pgmpy:Replacing existing CPD for LowerBodyO2\n",
      "WARNING:pgmpy:Replacing existing CPD for RUQO2\n",
      "WARNING:pgmpy:Replacing existing CPD for CO2Report\n",
      "WARNING:pgmpy:Replacing existing CPD for XrayReport\n",
      "WARNING:pgmpy:Replacing existing CPD for Disease\n",
      "WARNING:pgmpy:Replacing existing CPD for GruntingReport\n",
      "WARNING:pgmpy:Replacing existing CPD for Age\n",
      "WARNING:pgmpy:Replacing existing CPD for LVH\n",
      "WARNING:pgmpy:Replacing existing CPD for DuctFlow\n",
      "WARNING:pgmpy:Replacing existing CPD for CardiacMixing\n",
      "WARNING:pgmpy:Replacing existing CPD for LungParench\n",
      "WARNING:pgmpy:Replacing existing CPD for LungFlow\n",
      "WARNING:pgmpy:Replacing existing CPD for Sick\n"
     ]
    },
    {
     "data": {
      "text/plain": [
       "  0%|          | 0/2815 [00:00<?, ?it/s]"
      ],
      "application/vnd.jupyter.widget-view+json": {
       "version_major": 2,
       "version_minor": 0,
       "model_id": "01104fbfe19a42c090f8f18455a809c0"
      }
     },
     "metadata": {},
     "output_type": "display_data"
    }
   ],
   "execution_count": 7
  },
  {
   "metadata": {
    "ExecuteTime": {
     "end_time": "2024-11-24T13:46:33.880055Z",
     "start_time": "2024-11-24T13:46:33.612573Z"
    }
   },
   "cell_type": "code",
   "source": "res_json = calculate_metrics(predict_result, samples_data, aim)",
   "id": "7f720eb0ed894f15",
   "outputs": [
    {
     "name": "stdout",
     "output_type": "stream",
     "text": [
      "Evaluation Results:\n",
      "\n",
      "aim variable: GruntingReport\n",
      "Accuracy: 0.8708\n",
      "Recall: 0.8708\n",
      "Precision: 0.8672\n",
      "F1 Score: 0.8676\n",
      "\n",
      "\n",
      "aim variable: LowerBodyO2\n",
      "Accuracy: 0.5410\n",
      "Recall: 0.5410\n",
      "Precision: 0.5438\n",
      "F1 Score: 0.5383\n",
      "\n",
      "\n",
      "aim variable: RUQO2\n",
      "Accuracy: 0.5670\n",
      "Recall: 0.5670\n",
      "Precision: 0.5693\n",
      "F1 Score: 0.5658\n",
      "\n",
      "\n",
      "aim variable: CO2Report\n",
      "Accuracy: 0.9020\n",
      "Recall: 0.9020\n",
      "Precision: 0.9027\n",
      "F1 Score: 0.8974\n",
      "\n",
      "\n",
      "aim variable: XrayReport\n",
      "Accuracy: 0.7494\n",
      "Recall: 0.7494\n",
      "Precision: 0.7518\n",
      "F1 Score: 0.7461\n",
      "\n"
     ]
    }
   ],
   "execution_count": 8
  },
  {
   "metadata": {},
   "cell_type": "markdown",
   "source": "## 评测新模型",
   "id": "66cd7e431396f000"
  },
  {
   "metadata": {
    "ExecuteTime": {
     "end_time": "2024-11-24T13:46:33.900001Z",
     "start_time": "2024-11-24T13:46:33.889994Z"
    }
   },
   "cell_type": "code",
   "source": "samples_data",
   "id": "79dac7eaeec30dc8",
   "outputs": [
    {
     "data": {
      "text/plain": [
       "     BirthAsphyxia HypDistrib HypoxiaInO2     CO2  ChestXray Grunting  \\\n",
       "0               no      Equal    Moderate    High  Asy/Patch      yes   \n",
       "1               no    Unequal      Severe  Normal  Plethoric       no   \n",
       "2              yes    Unequal    Moderate  Normal     Normal       no   \n",
       "3               no      Equal    Moderate    High  Oligaemic       no   \n",
       "4               no      Equal    Moderate    High     Normal      yes   \n",
       "...            ...        ...         ...     ...        ...      ...   \n",
       "4995            no      Equal      Severe    High     Normal      yes   \n",
       "4996            no      Equal        Mild  Normal  Plethoric       no   \n",
       "4997            no      Equal    Moderate     Low  Plethoric       no   \n",
       "4998            no      Equal    Moderate  Normal  Plethoric       no   \n",
       "4999           yes      Equal    Moderate  Normal     Normal       no   \n",
       "\n",
       "     LVHreport LowerBodyO2 RUQO2 CO2Report  XrayReport Disease GruntingReport  \\\n",
       "0           no        5-12  5-12     >=7.5  Asy/Patchy  Fallot            yes   \n",
       "1           no        5-12   12+      <7.5   Plethoric     TGA             no   \n",
       "2           no        5-12  5-12      <7.5      Normal     PFC             no   \n",
       "3           no          <5  5-12     >=7.5   Oligaemic  Fallot             no   \n",
       "4           no        5-12  5-12     >=7.5      Normal   TAPVD             no   \n",
       "...        ...         ...   ...       ...         ...     ...            ...   \n",
       "4995       yes        5-12    <5     >=7.5      Normal   PAIVS            yes   \n",
       "4996        no        5-12  5-12      <7.5  Asy/Patchy   TAPVD             no   \n",
       "4997        no         12+  5-12      <7.5   Plethoric     TGA             no   \n",
       "4998        no        5-12    <5     >=7.5   Plethoric  Fallot             no   \n",
       "4999        no          <5  5-12      <7.5      Normal     TGA             no   \n",
       "\n",
       "             Age  LVH  DuctFlow CardiacMixing LungParench LungFlow Sick  \n",
       "0     11-30_days   no      None      Complete   Congested      Low   no  \n",
       "1       0-3_days   no      None      Complete      Normal     High   no  \n",
       "2       0-3_days   no  Rt_to_Lt          Mild      Normal   Normal   no  \n",
       "3     11-30_days   no  Lt_to_Rt      Complete      Normal      Low   no  \n",
       "4     11-30_days   no  Rt_to_Lt      Complete    Abnormal     High  yes  \n",
       "...          ...  ...       ...           ...         ...      ...  ...  \n",
       "4995   4-10_days  yes  Lt_to_Rt      Complete    Abnormal      Low  yes  \n",
       "4996    0-3_days   no      None          None      Normal     High   no  \n",
       "4997    0-3_days   no      None       Transp.      Normal     High  yes  \n",
       "4998  11-30_days   no  Lt_to_Rt      Complete      Normal   Normal   no  \n",
       "4999   4-10_days   no      None       Transp.      Normal   Normal   no  \n",
       "\n",
       "[5000 rows x 20 columns]"
      ],
      "text/html": [
       "<div>\n",
       "<style scoped>\n",
       "    .dataframe tbody tr th:only-of-type {\n",
       "        vertical-align: middle;\n",
       "    }\n",
       "\n",
       "    .dataframe tbody tr th {\n",
       "        vertical-align: top;\n",
       "    }\n",
       "\n",
       "    .dataframe thead th {\n",
       "        text-align: right;\n",
       "    }\n",
       "</style>\n",
       "<table border=\"1\" class=\"dataframe\">\n",
       "  <thead>\n",
       "    <tr style=\"text-align: right;\">\n",
       "      <th></th>\n",
       "      <th>BirthAsphyxia</th>\n",
       "      <th>HypDistrib</th>\n",
       "      <th>HypoxiaInO2</th>\n",
       "      <th>CO2</th>\n",
       "      <th>ChestXray</th>\n",
       "      <th>Grunting</th>\n",
       "      <th>LVHreport</th>\n",
       "      <th>LowerBodyO2</th>\n",
       "      <th>RUQO2</th>\n",
       "      <th>CO2Report</th>\n",
       "      <th>XrayReport</th>\n",
       "      <th>Disease</th>\n",
       "      <th>GruntingReport</th>\n",
       "      <th>Age</th>\n",
       "      <th>LVH</th>\n",
       "      <th>DuctFlow</th>\n",
       "      <th>CardiacMixing</th>\n",
       "      <th>LungParench</th>\n",
       "      <th>LungFlow</th>\n",
       "      <th>Sick</th>\n",
       "    </tr>\n",
       "  </thead>\n",
       "  <tbody>\n",
       "    <tr>\n",
       "      <th>0</th>\n",
       "      <td>no</td>\n",
       "      <td>Equal</td>\n",
       "      <td>Moderate</td>\n",
       "      <td>High</td>\n",
       "      <td>Asy/Patch</td>\n",
       "      <td>yes</td>\n",
       "      <td>no</td>\n",
       "      <td>5-12</td>\n",
       "      <td>5-12</td>\n",
       "      <td>&gt;=7.5</td>\n",
       "      <td>Asy/Patchy</td>\n",
       "      <td>Fallot</td>\n",
       "      <td>yes</td>\n",
       "      <td>11-30_days</td>\n",
       "      <td>no</td>\n",
       "      <td>None</td>\n",
       "      <td>Complete</td>\n",
       "      <td>Congested</td>\n",
       "      <td>Low</td>\n",
       "      <td>no</td>\n",
       "    </tr>\n",
       "    <tr>\n",
       "      <th>1</th>\n",
       "      <td>no</td>\n",
       "      <td>Unequal</td>\n",
       "      <td>Severe</td>\n",
       "      <td>Normal</td>\n",
       "      <td>Plethoric</td>\n",
       "      <td>no</td>\n",
       "      <td>no</td>\n",
       "      <td>5-12</td>\n",
       "      <td>12+</td>\n",
       "      <td>&lt;7.5</td>\n",
       "      <td>Plethoric</td>\n",
       "      <td>TGA</td>\n",
       "      <td>no</td>\n",
       "      <td>0-3_days</td>\n",
       "      <td>no</td>\n",
       "      <td>None</td>\n",
       "      <td>Complete</td>\n",
       "      <td>Normal</td>\n",
       "      <td>High</td>\n",
       "      <td>no</td>\n",
       "    </tr>\n",
       "    <tr>\n",
       "      <th>2</th>\n",
       "      <td>yes</td>\n",
       "      <td>Unequal</td>\n",
       "      <td>Moderate</td>\n",
       "      <td>Normal</td>\n",
       "      <td>Normal</td>\n",
       "      <td>no</td>\n",
       "      <td>no</td>\n",
       "      <td>5-12</td>\n",
       "      <td>5-12</td>\n",
       "      <td>&lt;7.5</td>\n",
       "      <td>Normal</td>\n",
       "      <td>PFC</td>\n",
       "      <td>no</td>\n",
       "      <td>0-3_days</td>\n",
       "      <td>no</td>\n",
       "      <td>Rt_to_Lt</td>\n",
       "      <td>Mild</td>\n",
       "      <td>Normal</td>\n",
       "      <td>Normal</td>\n",
       "      <td>no</td>\n",
       "    </tr>\n",
       "    <tr>\n",
       "      <th>3</th>\n",
       "      <td>no</td>\n",
       "      <td>Equal</td>\n",
       "      <td>Moderate</td>\n",
       "      <td>High</td>\n",
       "      <td>Oligaemic</td>\n",
       "      <td>no</td>\n",
       "      <td>no</td>\n",
       "      <td>&lt;5</td>\n",
       "      <td>5-12</td>\n",
       "      <td>&gt;=7.5</td>\n",
       "      <td>Oligaemic</td>\n",
       "      <td>Fallot</td>\n",
       "      <td>no</td>\n",
       "      <td>11-30_days</td>\n",
       "      <td>no</td>\n",
       "      <td>Lt_to_Rt</td>\n",
       "      <td>Complete</td>\n",
       "      <td>Normal</td>\n",
       "      <td>Low</td>\n",
       "      <td>no</td>\n",
       "    </tr>\n",
       "    <tr>\n",
       "      <th>4</th>\n",
       "      <td>no</td>\n",
       "      <td>Equal</td>\n",
       "      <td>Moderate</td>\n",
       "      <td>High</td>\n",
       "      <td>Normal</td>\n",
       "      <td>yes</td>\n",
       "      <td>no</td>\n",
       "      <td>5-12</td>\n",
       "      <td>5-12</td>\n",
       "      <td>&gt;=7.5</td>\n",
       "      <td>Normal</td>\n",
       "      <td>TAPVD</td>\n",
       "      <td>no</td>\n",
       "      <td>11-30_days</td>\n",
       "      <td>no</td>\n",
       "      <td>Rt_to_Lt</td>\n",
       "      <td>Complete</td>\n",
       "      <td>Abnormal</td>\n",
       "      <td>High</td>\n",
       "      <td>yes</td>\n",
       "    </tr>\n",
       "    <tr>\n",
       "      <th>...</th>\n",
       "      <td>...</td>\n",
       "      <td>...</td>\n",
       "      <td>...</td>\n",
       "      <td>...</td>\n",
       "      <td>...</td>\n",
       "      <td>...</td>\n",
       "      <td>...</td>\n",
       "      <td>...</td>\n",
       "      <td>...</td>\n",
       "      <td>...</td>\n",
       "      <td>...</td>\n",
       "      <td>...</td>\n",
       "      <td>...</td>\n",
       "      <td>...</td>\n",
       "      <td>...</td>\n",
       "      <td>...</td>\n",
       "      <td>...</td>\n",
       "      <td>...</td>\n",
       "      <td>...</td>\n",
       "      <td>...</td>\n",
       "    </tr>\n",
       "    <tr>\n",
       "      <th>4995</th>\n",
       "      <td>no</td>\n",
       "      <td>Equal</td>\n",
       "      <td>Severe</td>\n",
       "      <td>High</td>\n",
       "      <td>Normal</td>\n",
       "      <td>yes</td>\n",
       "      <td>yes</td>\n",
       "      <td>5-12</td>\n",
       "      <td>&lt;5</td>\n",
       "      <td>&gt;=7.5</td>\n",
       "      <td>Normal</td>\n",
       "      <td>PAIVS</td>\n",
       "      <td>yes</td>\n",
       "      <td>4-10_days</td>\n",
       "      <td>yes</td>\n",
       "      <td>Lt_to_Rt</td>\n",
       "      <td>Complete</td>\n",
       "      <td>Abnormal</td>\n",
       "      <td>Low</td>\n",
       "      <td>yes</td>\n",
       "    </tr>\n",
       "    <tr>\n",
       "      <th>4996</th>\n",
       "      <td>no</td>\n",
       "      <td>Equal</td>\n",
       "      <td>Mild</td>\n",
       "      <td>Normal</td>\n",
       "      <td>Plethoric</td>\n",
       "      <td>no</td>\n",
       "      <td>no</td>\n",
       "      <td>5-12</td>\n",
       "      <td>5-12</td>\n",
       "      <td>&lt;7.5</td>\n",
       "      <td>Asy/Patchy</td>\n",
       "      <td>TAPVD</td>\n",
       "      <td>no</td>\n",
       "      <td>0-3_days</td>\n",
       "      <td>no</td>\n",
       "      <td>None</td>\n",
       "      <td>None</td>\n",
       "      <td>Normal</td>\n",
       "      <td>High</td>\n",
       "      <td>no</td>\n",
       "    </tr>\n",
       "    <tr>\n",
       "      <th>4997</th>\n",
       "      <td>no</td>\n",
       "      <td>Equal</td>\n",
       "      <td>Moderate</td>\n",
       "      <td>Low</td>\n",
       "      <td>Plethoric</td>\n",
       "      <td>no</td>\n",
       "      <td>no</td>\n",
       "      <td>12+</td>\n",
       "      <td>5-12</td>\n",
       "      <td>&lt;7.5</td>\n",
       "      <td>Plethoric</td>\n",
       "      <td>TGA</td>\n",
       "      <td>no</td>\n",
       "      <td>0-3_days</td>\n",
       "      <td>no</td>\n",
       "      <td>None</td>\n",
       "      <td>Transp.</td>\n",
       "      <td>Normal</td>\n",
       "      <td>High</td>\n",
       "      <td>yes</td>\n",
       "    </tr>\n",
       "    <tr>\n",
       "      <th>4998</th>\n",
       "      <td>no</td>\n",
       "      <td>Equal</td>\n",
       "      <td>Moderate</td>\n",
       "      <td>Normal</td>\n",
       "      <td>Plethoric</td>\n",
       "      <td>no</td>\n",
       "      <td>no</td>\n",
       "      <td>5-12</td>\n",
       "      <td>&lt;5</td>\n",
       "      <td>&gt;=7.5</td>\n",
       "      <td>Plethoric</td>\n",
       "      <td>Fallot</td>\n",
       "      <td>no</td>\n",
       "      <td>11-30_days</td>\n",
       "      <td>no</td>\n",
       "      <td>Lt_to_Rt</td>\n",
       "      <td>Complete</td>\n",
       "      <td>Normal</td>\n",
       "      <td>Normal</td>\n",
       "      <td>no</td>\n",
       "    </tr>\n",
       "    <tr>\n",
       "      <th>4999</th>\n",
       "      <td>yes</td>\n",
       "      <td>Equal</td>\n",
       "      <td>Moderate</td>\n",
       "      <td>Normal</td>\n",
       "      <td>Normal</td>\n",
       "      <td>no</td>\n",
       "      <td>no</td>\n",
       "      <td>&lt;5</td>\n",
       "      <td>5-12</td>\n",
       "      <td>&lt;7.5</td>\n",
       "      <td>Normal</td>\n",
       "      <td>TGA</td>\n",
       "      <td>no</td>\n",
       "      <td>4-10_days</td>\n",
       "      <td>no</td>\n",
       "      <td>None</td>\n",
       "      <td>Transp.</td>\n",
       "      <td>Normal</td>\n",
       "      <td>Normal</td>\n",
       "      <td>no</td>\n",
       "    </tr>\n",
       "  </tbody>\n",
       "</table>\n",
       "<p>5000 rows × 20 columns</p>\n",
       "</div>"
      ]
     },
     "execution_count": 9,
     "metadata": {},
     "output_type": "execute_result"
    }
   ],
   "execution_count": 9
  },
  {
   "metadata": {
    "ExecuteTime": {
     "end_time": "2024-11-24T13:46:34.137902Z",
     "start_time": "2024-11-24T13:46:33.909974Z"
    }
   },
   "cell_type": "code",
   "source": "predict_result = predict(MStar_model, samples_data, aim)",
   "id": "e5e2f7d022e41765",
   "outputs": [
    {
     "ename": "ValueError",
     "evalue": "Data has variables which are not in the model",
     "output_type": "error",
     "traceback": [
      "\u001B[0;31m---------------------------------------------------------------------------\u001B[0m",
      "\u001B[0;31mValueError\u001B[0m                                Traceback (most recent call last)",
      "Cell \u001B[0;32mIn[10], line 1\u001B[0m\n\u001B[0;32m----> 1\u001B[0m predict_result \u001B[38;5;241m=\u001B[39m \u001B[43mpredict\u001B[49m\u001B[43m(\u001B[49m\u001B[43mMStar_model\u001B[49m\u001B[43m,\u001B[49m\u001B[43m \u001B[49m\u001B[43msamples_data\u001B[49m\u001B[43m,\u001B[49m\u001B[43m \u001B[49m\u001B[43maim\u001B[49m\u001B[43m)\u001B[49m\n",
      "File \u001B[0;32m~/Desktop/Projects/实验室/114项目/Lab1_CausalGenerationResultAnalysis/evaluate.py:30\u001B[0m, in \u001B[0;36mpredict\u001B[0;34m(model_in, data, aim_variables_lst)\u001B[0m\n\u001B[1;32m     27\u001B[0m model_in\u001B[38;5;241m.\u001B[39mfit(data)\n\u001B[1;32m     29\u001B[0m \u001B[38;5;66;03m# 返回模型对处理后数据集的预测结果\u001B[39;00m\n\u001B[0;32m---> 30\u001B[0m \u001B[38;5;28;01mreturn\u001B[39;00m \u001B[43mmodel_in\u001B[49m\u001B[38;5;241;43m.\u001B[39;49m\u001B[43mpredict\u001B[49m\u001B[43m(\u001B[49m\u001B[43mdrop_data\u001B[49m\u001B[43m)\u001B[49m\n",
      "File \u001B[0;32m~/anaconda3/envs/NORMALPYTHON/lib/python3.9/site-packages/pgmpy/models/BayesianNetwork.py:696\u001B[0m, in \u001B[0;36mBayesianNetwork.predict\u001B[0;34m(self, data, stochastic, n_jobs)\u001B[0m\n\u001B[1;32m    693\u001B[0m     \u001B[38;5;28;01mraise\u001B[39;00m \u001B[38;5;167;01mValueError\u001B[39;00m(\u001B[38;5;124m\"\u001B[39m\u001B[38;5;124mNo variable missing in data. Nothing to predict\u001B[39m\u001B[38;5;124m\"\u001B[39m)\n\u001B[1;32m    695\u001B[0m \u001B[38;5;28;01melif\u001B[39;00m \u001B[38;5;28mset\u001B[39m(data\u001B[38;5;241m.\u001B[39mcolumns) \u001B[38;5;241m-\u001B[39m \u001B[38;5;28mset\u001B[39m(\u001B[38;5;28mself\u001B[39m\u001B[38;5;241m.\u001B[39mnodes()):\n\u001B[0;32m--> 696\u001B[0m     \u001B[38;5;28;01mraise\u001B[39;00m \u001B[38;5;167;01mValueError\u001B[39;00m(\u001B[38;5;124m\"\u001B[39m\u001B[38;5;124mData has variables which are not in the model\u001B[39m\u001B[38;5;124m\"\u001B[39m)\n\u001B[1;32m    698\u001B[0m missing_variables \u001B[38;5;241m=\u001B[39m \u001B[38;5;28mset\u001B[39m(\u001B[38;5;28mself\u001B[39m\u001B[38;5;241m.\u001B[39mnodes()) \u001B[38;5;241m-\u001B[39m \u001B[38;5;28mset\u001B[39m(data\u001B[38;5;241m.\u001B[39mcolumns)\n\u001B[1;32m    699\u001B[0m model_inference \u001B[38;5;241m=\u001B[39m VariableElimination(\u001B[38;5;28mself\u001B[39m)\n",
      "\u001B[0;31mValueError\u001B[0m: Data has variables which are not in the model"
     ]
    }
   ],
   "execution_count": 10
  },
  {
   "metadata": {},
   "cell_type": "code",
   "source": "res_json1 = calculate_metrics(predict_result, samples_data, aim)",
   "id": "eb0c6245951cf0b2",
   "outputs": [],
   "execution_count": null
  },
  {
   "metadata": {},
   "cell_type": "markdown",
   "source": "## 汇总两个模型的效果",
   "id": "c11b994ef170c05"
  },
  {
   "metadata": {},
   "cell_type": "code",
   "source": [
    "# 画图比较res_json和res_json1中各aim中指标的Accuracy、Precision、Recall、F1的值\n",
    "# res_json和res_json1是字典，格式为{'accuracy': accuracy, 'recall': recall, 'precision': precision, 'f1_score': f1}\n",
    "\n",
    "import matplotlib.pyplot as plt\n",
    "\n",
    "def plot_comparison(res_json, res_json1, metrics_lst):\n",
    "    \"\"\"\n",
    "    绘图比较两个结果字典中各aim中指标的Accuracy、Precision、Recall、F1的值\n",
    "    :param res_json: 第一个结果字典\n",
    "    :param res_json1: 第二个结果字典\n",
    "    :param metrics_lst: 需要比较的指标列表\n",
    "    \"\"\"\n",
    "    aims = list(res_json.keys())\n",
    "    width = 0.35  # 柱状图的宽度\n",
    "\n",
    "    for aim in aims:\n",
    "        plt.figure(figsize=(5, 3))\n",
    "        x = metrics_lst  # x轴为指标名称\n",
    "        y1 = [res_json[aim][metric] for metric in metrics_lst]\n",
    "        y2 = [res_json1[aim][metric] for metric in metrics_lst]\n",
    "\n",
    "        plt.bar(x, y1, width, label='res_json')\n",
    "        plt.bar([p + width for p in range(len(x))], y2, width, label='res_json1')\n",
    "\n",
    "        plt.xlabel('Metrics')\n",
    "        plt.ylabel('Values')\n",
    "        plt.title(f'Comparison of Metrics for {aim}')\n",
    "        plt.xticks([p + width / 2 for p in range(len(x))], x)\n",
    "        plt.legend()\n",
    "        plt.show()\n",
    "\n",
    "plot_comparison(res_json, res_json1, ['accuracy', 'precision', 'recall', 'f1_score'])\n"
   ],
   "id": "bee9dc8085efac04",
   "outputs": [],
   "execution_count": null
  },
  {
   "metadata": {},
   "cell_type": "code",
   "source": [
    "def plot_comparison_f1(res_json, res_json1):\n",
    "    \"\"\"\n",
    "    绘一个图比较两个结果字典中各aim中指标的F1的值\n",
    "    :param res_json: 第一个结果字典\n",
    "    :param res_json1: 第二个结果字典\n",
    "    \"\"\"\n",
    "    aims = list(res_json.keys())\n",
    "    width = 0.35  # 柱状图的宽度\n",
    "\n",
    "    # 创建 x 轴标签\n",
    "    x = aims\n",
    "    x_indices = range(len(x))\n",
    "\n",
    "    # 提取 F1 值\n",
    "    y1 = [res_json[aim]['f1_score'] for aim in aims]\n",
    "    y2 = [res_json1[aim]['f1_score'] for aim in aims]\n",
    "\n",
    "    # 创建图形\n",
    "    plt.figure(figsize=(10, 6))\n",
    "    plt.bar(x_indices, y1, width, label='originalGraph')\n",
    "    plt.bar([i + width for i in x_indices], y2, width, label='MStarGraph')\n",
    "\n",
    "    # 设置图形属性\n",
    "    plt.xlabel('Aims')\n",
    "    plt.ylabel('F1 Score')\n",
    "    plt.title('Comparison of F1 Scores for Different Aims')\n",
    "    plt.xticks([i + width / 2 for i in x_indices], x)\n",
    "    plt.legend()\n",
    "\n",
    "    # 显示图形\n",
    "    plt.show()\n",
    "\n",
    "plot_comparison_f1(res_json, res_json1)"
   ],
   "id": "e64a9d73a8e22ac6",
   "outputs": [],
   "execution_count": null
  },
  {
   "metadata": {},
   "cell_type": "code",
   "source": "",
   "id": "219e0ffda099ca68",
   "outputs": [],
   "execution_count": null
  }
 ],
 "metadata": {
  "kernelspec": {
   "display_name": "Python 3",
   "language": "python",
   "name": "python3"
  },
  "language_info": {
   "codemirror_mode": {
    "name": "ipython",
    "version": 2
   },
   "file_extension": ".py",
   "mimetype": "text/x-python",
   "name": "python",
   "nbconvert_exporter": "python",
   "pygments_lexer": "ipython2",
   "version": "2.7.6"
  }
 },
 "nbformat": 4,
 "nbformat_minor": 5
}
