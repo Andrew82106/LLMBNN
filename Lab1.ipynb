{
 "cells": [
  {
   "cell_type": "code",
   "id": "initial_id",
   "metadata": {
    "collapsed": true,
    "ExecuteTime": {
     "end_time": "2024-11-25T03:20:12.354616Z",
     "start_time": "2024-11-25T03:20:09.999491Z"
    }
   },
   "source": [
    "from Lab1_CausalGenerationResultAnalysis.M_Star import generate_BNN_MStar\n",
    "from Lab1_CausalGenerationResultAnalysis.GenerateBNAndData import *\n",
    "from Lab1_CausalGenerationResultAnalysis.evaluate import predict, calculate_metrics\n",
    "import pandas as pd"
   ],
   "outputs": [],
   "execution_count": 1
  },
  {
   "metadata": {
    "ExecuteTime": {
     "end_time": "2024-11-25T03:20:12.360890Z",
     "start_time": "2024-11-25T03:20:12.358232Z"
    }
   },
   "cell_type": "code",
   "source": [
    "aim_graph = 'Child'\n",
    "\n",
    "if aim_graph == 'Asia':\n",
    "    define_df_pth = \"/Users/andrewlee/Desktop/Projects/实验室/114项目/Lab1_CausalGenerationResultAnalysis/Asia/asiaDefineChinese.csv\"\n",
    "\n",
    "    bif_file_path = '/Users/andrewlee/Desktop/Projects/实验室/114项目/Lab1_CausalGenerationResultAnalysis/Asia/asia.bif'\n",
    "\n",
    "    aim = ['xray', 'dysp']\n",
    "\n",
    "elif aim_graph == 'Insurance':\n",
    "    define_df_pth = \"/Users/andrewlee/Desktop/Projects/实验室/114项目/Lab1_CausalGenerationResultAnalysis/Insurance/InsuranceDefineChinese.csv\"\n",
    "\n",
    "    bif_file_path = '/Users/andrewlee/Desktop/Projects/实验室/114项目/Lab1_CausalGenerationResultAnalysis/Insurance/insurance.bif'\n",
    "\n",
    "    aim = ['PropCost', 'ThisCarCost', 'ThisCarDam', 'OtherCarCost', 'ILiCost']\n",
    "\n",
    "elif aim_graph == 'Child':\n",
    "    define_df_pth = \"/Users/andrewlee/Desktop/Projects/实验室/114项目/Lab1_CausalGenerationResultAnalysis/Child/ChildDefineChinese.csv\"\n",
    "\n",
    "    bif_file_path = '/Users/andrewlee/Desktop/Projects/实验室/114项目/Lab1_CausalGenerationResultAnalysis/Child/child.bif'\n",
    "\n",
    "    aim = ['GruntingReport', 'LowerBodyO2', 'RUQO2', 'CO2Report', 'XrayReport']\n",
    "\n",
    "else:\n",
    "    raise Exception(\"aim_graph not found!\")"
   ],
   "id": "cac63f2c05919be7",
   "outputs": [],
   "execution_count": 2
  },
  {
   "metadata": {},
   "cell_type": "markdown",
   "source": "# 读取节点信息",
   "id": "48be47b29d1795d6"
  },
  {
   "metadata": {
    "ExecuteTime": {
     "end_time": "2024-11-25T03:20:12.505209Z",
     "start_time": "2024-11-25T03:20:12.498096Z"
    }
   },
   "cell_type": "code",
   "source": [
    "define_df = pd.read_csv(define_df_pth)\n",
    "node_names = list(define_df['var_name'])\n",
    "node_detail = list(define_df['var_description'])\n",
    "node_detail"
   ],
   "id": "526c936459bf58e9",
   "outputs": [
    {
     "data": {
      "text/plain": [
       "['婴儿出生时血液中氧气不足',\n",
       " '婴儿高铁血红蛋白血症',\n",
       " '婴儿出现疾病时的年龄',\n",
       " '左心室肥厚',\n",
       " '动脉导管中的血流',\n",
       " '氧合血和脱氧血的混合',\n",
       " '肺部血管的状态',\n",
       " '肺部血流量低',\n",
       " '存在疾病',\n",
       " '身体各部位均匀分布的低氧区域',\n",
       " '吸氧时的低氧状态',\n",
       " '体内二氧化碳水平',\n",
       " '进行了胸部X光检查',\n",
       " '婴儿发出的哼声',\n",
       " '有关左心室肥厚的报告',\n",
       " '下身的氧含量',\n",
       " '右大腿前侧肌肉的氧含量',\n",
       " '报告血液中高水平二氧化碳的文件',\n",
       " '肺部过度充血的X光报告',\n",
       " '有关婴儿发出哼声的报告']"
      ]
     },
     "execution_count": 3,
     "metadata": {},
     "output_type": "execute_result"
    }
   ],
   "execution_count": 3
  },
  {
   "metadata": {},
   "cell_type": "markdown",
   "source": "# 读取原BN模型",
   "id": "91884c5c9658747a"
  },
  {
   "metadata": {
    "ExecuteTime": {
     "end_time": "2024-11-25T03:20:17.704625Z",
     "start_time": "2024-11-25T03:20:12.570302Z"
    }
   },
   "cell_type": "code",
   "source": [
    "\n",
    "origin_model = define_bayesian_network_from_bif(bif_file_path)\n",
    "type(origin_model)"
   ],
   "id": "18b783bb4bce093e",
   "outputs": [
    {
     "data": {
      "text/plain": [
       "pgmpy.models.BayesianNetwork.BayesianNetwork"
      ]
     },
     "execution_count": 4,
     "metadata": {},
     "output_type": "execute_result"
    }
   ],
   "execution_count": 4
  },
  {
   "metadata": {},
   "cell_type": "markdown",
   "source": "# 读取M*的BN模型",
   "id": "373cf9a14eb6100d"
  },
  {
   "metadata": {
    "ExecuteTime": {
     "end_time": "2024-11-25T03:21:06.989039Z",
     "start_time": "2024-11-25T03:20:17.804757Z"
    }
   },
   "cell_type": "code",
   "source": [
    "MStar_model = generate_BNN_MStar(node_names, node_detail)\n",
    "MStar_model.edges()"
   ],
   "id": "2dad5cb50b8b8ba6",
   "outputs": [
    {
     "name": "stdout",
     "output_type": "stream",
     "text": [
      "waiting for LLM response of M*(stage 1/2):\n"
     ]
    },
    {
     "name": "stderr",
     "output_type": "stream",
     "text": [
      "INFO:httpx:HTTP Request: POST https://dashscope.aliyuncs.com/compatible-mode/v1/chat/completions \"HTTP/1.1 200 OK\"\n"
     ]
    },
    {
     "name": "stdout",
     "output_type": "stream",
     "text": [
      "waiting for LLM response of M*(stage 2/2)\n"
     ]
    },
    {
     "name": "stderr",
     "output_type": "stream",
     "text": [
      "INFO:httpx:HTTP Request: POST https://dashscope.aliyuncs.com/compatible-mode/v1/chat/completions \"HTTP/1.1 200 OK\"\n"
     ]
    },
    {
     "name": "stdout",
     "output_type": "stream",
     "text": [
      "illegal network structure\n"
     ]
    },
    {
     "ename": "TypeError",
     "evalue": "can only concatenate str (not \"list\") to str",
     "output_type": "error",
     "traceback": [
      "\u001B[0;31m---------------------------------------------------------------------------\u001B[0m",
      "\u001B[0;31mTypeError\u001B[0m                                 Traceback (most recent call last)",
      "Cell \u001B[0;32mIn[5], line 1\u001B[0m\n\u001B[0;32m----> 1\u001B[0m MStar_model \u001B[38;5;241m=\u001B[39m \u001B[43mgenerate_BNN_MStar\u001B[49m\u001B[43m(\u001B[49m\u001B[43mnode_names\u001B[49m\u001B[43m,\u001B[49m\u001B[43m \u001B[49m\u001B[43mnode_detail\u001B[49m\u001B[43m)\u001B[49m\n\u001B[1;32m      2\u001B[0m MStar_model\u001B[38;5;241m.\u001B[39medges()\n",
      "File \u001B[0;32m~/Desktop/Projects/实验室/114项目/Lab1_CausalGenerationResultAnalysis/M_Star.py:210\u001B[0m, in \u001B[0;36mgenerate_BNN_MStar\u001B[0;34m(nodes_name_lst, nodes_info_list)\u001B[0m\n\u001B[1;32m    203\u001B[0m \u001B[38;5;28;01mdef\u001B[39;00m \u001B[38;5;21mgenerate_BNN_MStar\u001B[39m(nodes_name_lst, nodes_info_list) \u001B[38;5;241m-\u001B[39m\u001B[38;5;241m>\u001B[39m BayesianNetwork:\n\u001B[1;32m    204\u001B[0m \u001B[38;5;250m    \u001B[39m\u001B[38;5;124;03m\"\"\"\u001B[39;00m\n\u001B[1;32m    205\u001B[0m \u001B[38;5;124;03m    输入网络节点信息和解释，输出网络结构\u001B[39;00m\n\u001B[1;32m    206\u001B[0m \u001B[38;5;124;03m    :param nodes_name_lst: 网络节点名称\u001B[39;00m\n\u001B[1;32m    207\u001B[0m \u001B[38;5;124;03m    :param nodes_info_list: 网络节点信息\u001B[39;00m\n\u001B[1;32m    208\u001B[0m \u001B[38;5;124;03m    :return: 网络结构\u001B[39;00m\n\u001B[1;32m    209\u001B[0m \u001B[38;5;124;03m    \"\"\"\u001B[39;00m\n\u001B[0;32m--> 210\u001B[0m     \u001B[38;5;28;01mreturn\u001B[39;00m \u001B[43mgenerate_BNN_MStar_Naive\u001B[49m\u001B[43m(\u001B[49m\u001B[43mnodes_name_lst\u001B[49m\u001B[43m,\u001B[49m\u001B[43m \u001B[49m\u001B[43mnodes_info_list\u001B[49m\u001B[43m)\u001B[49m\n",
      "File \u001B[0;32m~/Desktop/Projects/实验室/114项目/Lab1_CausalGenerationResultAnalysis/M_Star.py:198\u001B[0m, in \u001B[0;36mgenerate_BNN_MStar_Naive\u001B[0;34m(nodes_name_lst, nodes_info_list)\u001B[0m\n\u001B[1;32m    195\u001B[0m response1 \u001B[38;5;241m=\u001B[39m web_llm\u001B[38;5;241m.\u001B[39mresponse_only_text(web_llm\u001B[38;5;241m.\u001B[39mgenerate_msg(prompt1))\n\u001B[1;32m    197\u001B[0m \u001B[38;5;66;03m# raw_BNN = eval_BN(response1, web_llm)\u001B[39;00m\n\u001B[0;32m--> 198\u001B[0m raw_BNN_new_refine \u001B[38;5;241m=\u001B[39m \u001B[43mRefine_BN\u001B[49m\u001B[43m(\u001B[49m\u001B[43mresponse1\u001B[49m\u001B[43m,\u001B[49m\u001B[43m \u001B[49m\u001B[43mnodes_name_lst\u001B[49m\u001B[43m,\u001B[49m\u001B[43m \u001B[49m\u001B[43mweb_llm\u001B[49m\u001B[43m)\u001B[49m\n\u001B[1;32m    200\u001B[0m \u001B[38;5;28;01mreturn\u001B[39;00m BayesianNetwork(raw_BNN_new_refine)\n",
      "File \u001B[0;32m~/Desktop/Projects/实验室/114项目/Lab1_CausalGenerationResultAnalysis/M_Star.py:146\u001B[0m, in \u001B[0;36mRefine_BN\u001B[0;34m(response1, nodes_name_lst, web_llm)\u001B[0m\n\u001B[1;32m    143\u001B[0m \u001B[38;5;28;01melif\u001B[39;00m \u001B[38;5;129;01mnot\u001B[39;00m check_res[\u001B[38;5;124m'\u001B[39m\u001B[38;5;124mconnected\u001B[39m\u001B[38;5;124m'\u001B[39m]:\n\u001B[1;32m    144\u001B[0m     Reason_prompt\u001B[38;5;241m.\u001B[39mappend(\u001B[38;5;124mf\u001B[39m\u001B[38;5;124m\"\u001B[39m\u001B[38;5;124m网络不连通，图中包含如下连通块：\u001B[39m\u001B[38;5;132;01m{\u001B[39;00mcheck_res[\u001B[38;5;124m'\u001B[39m\u001B[38;5;124mconnected_nodes\u001B[39m\u001B[38;5;124m'\u001B[39m]\u001B[38;5;132;01m}\u001B[39;00m\u001B[38;5;124m，请将其连起来。\u001B[39m\u001B[38;5;124m\"\u001B[39m)\n\u001B[0;32m--> 146\u001B[0m Error_prompt \u001B[38;5;241m+\u001B[39m\u001B[38;5;241m=\u001B[39m Reason_prompt\n\u001B[1;32m    147\u001B[0m \u001B[38;5;66;03m# 提示用户仅返回网络拓扑列表，避免其他多余字符\u001B[39;00m\n\u001B[1;32m    148\u001B[0m Error_prompt \u001B[38;5;241m+\u001B[39m\u001B[38;5;241m=\u001B[39m \u001B[38;5;124m\"\u001B[39m\u001B[38;5;124m请重新生成，你本次的返回值只应该只包含类似[(\u001B[39m\u001B[38;5;124m'\u001B[39m\u001B[38;5;124mA\u001B[39m\u001B[38;5;124m'\u001B[39m\u001B[38;5;124m, \u001B[39m\u001B[38;5;124m'\u001B[39m\u001B[38;5;124mB\u001B[39m\u001B[38;5;124m'\u001B[39m\u001B[38;5;124m),(\u001B[39m\u001B[38;5;124m'\u001B[39m\u001B[38;5;124mB\u001B[39m\u001B[38;5;124m'\u001B[39m\u001B[38;5;124m,\u001B[39m\u001B[38;5;124m'\u001B[39m\u001B[38;5;124mC\u001B[39m\u001B[38;5;124m'\u001B[39m\u001B[38;5;124m)]的网络拓扑列表，不要返回其他任何的多余字符。\u001B[39m\u001B[38;5;124m\"\u001B[39m\n",
      "\u001B[0;31mTypeError\u001B[0m: can only concatenate str (not \"list\") to str"
     ]
    }
   ],
   "execution_count": 5
  },
  {
   "metadata": {},
   "cell_type": "markdown",
   "source": "# 反演生成测试数据",
   "id": "3ce4c9528547a713"
  },
  {
   "metadata": {},
   "cell_type": "code",
   "source": [
    "samples_data = generate_samples(origin_model, 5000)\n",
    "origin_model.remove_cpds()"
   ],
   "id": "82e578fc604ecf44",
   "outputs": [],
   "execution_count": null
  },
  {
   "metadata": {},
   "cell_type": "markdown",
   "source": "# 评测",
   "id": "acc6b02d7c720af3"
  },
  {
   "metadata": {},
   "cell_type": "markdown",
   "source": "## 评测原模型",
   "id": "c23cff92a237c2e2"
  },
  {
   "metadata": {},
   "cell_type": "code",
   "source": "predict_result = predict(origin_model, samples_data, aim)",
   "id": "5acc25f03963603e",
   "outputs": [],
   "execution_count": null
  },
  {
   "metadata": {},
   "cell_type": "code",
   "source": "res_json = calculate_metrics(predict_result, samples_data, aim)",
   "id": "7f720eb0ed894f15",
   "outputs": [],
   "execution_count": null
  },
  {
   "metadata": {},
   "cell_type": "markdown",
   "source": "## 评测新模型",
   "id": "66cd7e431396f000"
  },
  {
   "metadata": {},
   "cell_type": "code",
   "source": "samples_data",
   "id": "79dac7eaeec30dc8",
   "outputs": [],
   "execution_count": null
  },
  {
   "metadata": {},
   "cell_type": "code",
   "source": "predict_result = predict(MStar_model, samples_data, aim)",
   "id": "e5e2f7d022e41765",
   "outputs": [],
   "execution_count": null
  },
  {
   "metadata": {},
   "cell_type": "code",
   "source": "res_json1 = calculate_metrics(predict_result, samples_data, aim)",
   "id": "eb0c6245951cf0b2",
   "outputs": [],
   "execution_count": null
  },
  {
   "metadata": {},
   "cell_type": "markdown",
   "source": "## 汇总两个模型的效果",
   "id": "c11b994ef170c05"
  },
  {
   "metadata": {},
   "cell_type": "code",
   "source": [
    "# 画图比较res_json和res_json1中各aim中指标的Accuracy、Precision、Recall、F1的值\n",
    "# res_json和res_json1是字典，格式为{'accuracy': accuracy, 'recall': recall, 'precision': precision, 'f1_score': f1}\n",
    "\n",
    "import matplotlib.pyplot as plt\n",
    "\n",
    "def plot_comparison(res_json, res_json1, metrics_lst):\n",
    "    \"\"\"\n",
    "    绘图比较两个结果字典中各aim中指标的Accuracy、Precision、Recall、F1的值\n",
    "    :param res_json: 第一个结果字典\n",
    "    :param res_json1: 第二个结果字典\n",
    "    :param metrics_lst: 需要比较的指标列表\n",
    "    \"\"\"\n",
    "    aims = list(res_json.keys())\n",
    "    width = 0.35  # 柱状图的宽度\n",
    "\n",
    "    for aim in aims:\n",
    "        plt.figure(figsize=(5, 3))\n",
    "        x = metrics_lst  # x轴为指标名称\n",
    "        y1 = [res_json[aim][metric] for metric in metrics_lst]\n",
    "        y2 = [res_json1[aim][metric] for metric in metrics_lst]\n",
    "\n",
    "        plt.bar(x, y1, width, label='res_json')\n",
    "        plt.bar([p + width for p in range(len(x))], y2, width, label='res_json1')\n",
    "\n",
    "        plt.xlabel('Metrics')\n",
    "        plt.ylabel('Values')\n",
    "        plt.title(f'Comparison of Metrics for {aim}')\n",
    "        plt.xticks([p + width / 2 for p in range(len(x))], x)\n",
    "        plt.legend()\n",
    "        plt.show()\n",
    "\n",
    "plot_comparison(res_json, res_json1, ['accuracy', 'precision', 'recall', 'f1_score'])\n"
   ],
   "id": "bee9dc8085efac04",
   "outputs": [],
   "execution_count": null
  },
  {
   "metadata": {},
   "cell_type": "code",
   "source": [
    "def plot_comparison_f1(res_json, res_json1):\n",
    "    \"\"\"\n",
    "    绘一个图比较两个结果字典中各aim中指标的F1的值\n",
    "    :param res_json: 第一个结果字典\n",
    "    :param res_json1: 第二个结果字典\n",
    "    \"\"\"\n",
    "    aims = list(res_json.keys())\n",
    "    width = 0.35  # 柱状图的宽度\n",
    "\n",
    "    # 创建 x 轴标签\n",
    "    x = aims\n",
    "    x_indices = range(len(x))\n",
    "\n",
    "    # 提取 F1 值\n",
    "    y1 = [res_json[aim]['f1_score'] for aim in aims]\n",
    "    y2 = [res_json1[aim]['f1_score'] for aim in aims]\n",
    "\n",
    "    # 创建图形\n",
    "    plt.figure(figsize=(10, 6))\n",
    "    plt.bar(x_indices, y1, width, label='originalGraph')\n",
    "    plt.bar([i + width for i in x_indices], y2, width, label='MStarGraph')\n",
    "\n",
    "    # 设置图形属性\n",
    "    plt.xlabel('Aims')\n",
    "    plt.ylabel('F1 Score')\n",
    "    plt.title('Comparison of F1 Scores for Different Aims')\n",
    "    plt.xticks([i + width / 2 for i in x_indices], x)\n",
    "    plt.legend()\n",
    "\n",
    "    # 显示图形\n",
    "    plt.show()\n",
    "\n",
    "plot_comparison_f1(res_json, res_json1)"
   ],
   "id": "e64a9d73a8e22ac6",
   "outputs": [],
   "execution_count": null
  },
  {
   "metadata": {},
   "cell_type": "code",
   "source": "",
   "id": "219e0ffda099ca68",
   "outputs": [],
   "execution_count": null
  }
 ],
 "metadata": {
  "kernelspec": {
   "display_name": "Python 3",
   "language": "python",
   "name": "python3"
  },
  "language_info": {
   "codemirror_mode": {
    "name": "ipython",
    "version": 2
   },
   "file_extension": ".py",
   "mimetype": "text/x-python",
   "name": "python",
   "nbconvert_exporter": "python",
   "pygments_lexer": "ipython2",
   "version": "2.7.6"
  }
 },
 "nbformat": 4,
 "nbformat_minor": 5
}
