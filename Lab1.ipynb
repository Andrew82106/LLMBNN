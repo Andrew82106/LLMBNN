{
 "cells": [
  {
   "cell_type": "code",
   "id": "initial_id",
   "metadata": {
    "collapsed": true,
    "ExecuteTime": {
     "end_time": "2024-11-24T13:37:14.537891Z",
     "start_time": "2024-11-24T13:37:14.533945Z"
    }
   },
   "source": [
    "from Lab1_CausalGenerationResultAnalysis.M_Star import generate_BNN_MStar\n",
    "from Lab1_CausalGenerationResultAnalysis.GenerateBNAndData import *\n",
    "from Lab1_CausalGenerationResultAnalysis.evaluate import predict, calculate_metrics\n",
    "import pandas as pd"
   ],
   "outputs": [],
   "execution_count": 11
  },
  {
   "metadata": {
    "ExecuteTime": {
     "end_time": "2024-11-24T13:37:14.550831Z",
     "start_time": "2024-11-24T13:37:14.546229Z"
    }
   },
   "cell_type": "code",
   "source": [
    "aim_graph = 'Child'\n",
    "\n",
    "if aim_graph == 'Asia':\n",
    "    define_df_pth = \"/Users/andrewlee/Desktop/Projects/实验室/114项目/Lab1_CausalGenerationResultAnalysis/Asia/asiaDefineChinese.csv\"\n",
    "\n",
    "    bif_file_path = '/Users/andrewlee/Desktop/Projects/实验室/114项目/Lab1_CausalGenerationResultAnalysis/Asia/asia.bif'\n",
    "\n",
    "    aim = ['xray', 'dysp']\n",
    "\n",
    "elif aim_graph == 'Insurance':\n",
    "    define_df_pth = \"/Users/andrewlee/Desktop/Projects/实验室/114项目/Lab1_CausalGenerationResultAnalysis/Insurance/InsuranceDefineChinese.csv\"\n",
    "\n",
    "    bif_file_path = '/Users/andrewlee/Desktop/Projects/实验室/114项目/Lab1_CausalGenerationResultAnalysis/Insurance/insurance.bif'\n",
    "\n",
    "    aim = ['PropCost', 'ThisCarCost', 'ThisCarDam', 'OtherCarCost', 'ILiCost']\n",
    "\n",
    "elif aim_graph == 'Child':\n",
    "    define_df_pth = \"/Users/andrewlee/Desktop/Projects/实验室/114项目/Lab1_CausalGenerationResultAnalysis/Child/ChildDefineChinese.csv\"\n",
    "\n",
    "    bif_file_path = '/Users/andrewlee/Desktop/Projects/实验室/114项目/Lab1_CausalGenerationResultAnalysis/Child/child.bif'\n",
    "\n",
    "    aim = ['GruntingReport', 'LowerBodyO2', 'RUQO2', 'CO2Report', 'XrayReport']\n",
    "\n",
    "else:\n",
    "    raise Exception(\"aim_graph not found!\")"
   ],
   "id": "cac63f2c05919be7",
   "outputs": [],
   "execution_count": 12
  },
  {
   "metadata": {},
   "cell_type": "markdown",
   "source": "# 读取节点信息",
   "id": "48be47b29d1795d6"
  },
  {
   "metadata": {
    "ExecuteTime": {
     "end_time": "2024-11-24T13:37:14.571190Z",
     "start_time": "2024-11-24T13:37:14.565660Z"
    }
   },
   "cell_type": "code",
   "source": [
    "define_df = pd.read_csv(define_df_pth)\n",
    "node_names = list(define_df['var_name'])\n",
    "node_detail = list(define_df['var_description'])\n",
    "node_detail"
   ],
   "id": "526c936459bf58e9",
   "outputs": [
    {
     "data": {
      "text/plain": [
       "['婴儿出生时血液中氧气不足',\n",
       " '婴儿高铁血红蛋白血症',\n",
       " '婴儿出现疾病时的年龄',\n",
       " '左心室肥厚',\n",
       " '动脉导管中的血流',\n",
       " '氧合血和脱氧血的混合',\n",
       " '肺部血管的状态',\n",
       " '肺部血流量低',\n",
       " '存在疾病',\n",
       " '身体各部位均匀分布的低氧区域',\n",
       " '吸氧时的低氧状态',\n",
       " '体内二氧化碳水平',\n",
       " '进行了胸部X光检查',\n",
       " '婴儿发出的哼声',\n",
       " '有关左心室肥厚的报告',\n",
       " '下身的氧含量',\n",
       " '右大腿前侧肌肉的氧含量',\n",
       " '报告血液中高水平二氧化碳的文件',\n",
       " '肺部过度充血的X光报告',\n",
       " '有关婴儿发出哼声的报告']"
      ]
     },
     "execution_count": 13,
     "metadata": {},
     "output_type": "execute_result"
    }
   ],
   "execution_count": 13
  },
  {
   "metadata": {},
   "cell_type": "markdown",
   "source": "# 读取原BN模型",
   "id": "91884c5c9658747a"
  },
  {
   "metadata": {
    "ExecuteTime": {
     "end_time": "2024-11-24T13:37:19.340678Z",
     "start_time": "2024-11-24T13:37:14.585210Z"
    }
   },
   "cell_type": "code",
   "source": [
    "\n",
    "origin_model = define_bayesian_network_from_bif(bif_file_path)\n",
    "type(origin_model)"
   ],
   "id": "18b783bb4bce093e",
   "outputs": [
    {
     "data": {
      "text/plain": [
       "pgmpy.models.BayesianNetwork.BayesianNetwork"
      ]
     },
     "execution_count": 14,
     "metadata": {},
     "output_type": "execute_result"
    }
   ],
   "execution_count": 14
  },
  {
   "metadata": {},
   "cell_type": "markdown",
   "source": "# 读取M*的BN模型",
   "id": "373cf9a14eb6100d"
  },
  {
   "metadata": {
    "jupyter": {
     "is_executing": true
    },
    "ExecuteTime": {
     "start_time": "2024-11-24T13:37:19.359093Z"
    }
   },
   "cell_type": "code",
   "source": [
    "MStar_model = generate_BNN_MStar(node_names, node_detail)\n",
    "MStar_model.edges()"
   ],
   "id": "2dad5cb50b8b8ba6",
   "outputs": [
    {
     "name": "stdout",
     "output_type": "stream",
     "text": [
      "waiting for LLM response of M*(stage 1/2):\n"
     ]
    }
   ],
   "execution_count": null
  },
  {
   "metadata": {},
   "cell_type": "markdown",
   "source": "# 反演生成测试数据",
   "id": "3ce4c9528547a713"
  },
  {
   "metadata": {
    "ExecuteTime": {
     "end_time": "2024-11-24T13:29:34.378667Z",
     "start_time": "2024-11-24T13:29:34.251052Z"
    }
   },
   "cell_type": "code",
   "source": [
    "samples_data = generate_samples(origin_model, 5000)\n",
    "origin_model.remove_cpds()"
   ],
   "id": "82e578fc604ecf44",
   "outputs": [
    {
     "data": {
      "text/plain": [
       "  0%|          | 0/20 [00:00<?, ?it/s]"
      ],
      "application/vnd.jupyter.widget-view+json": {
       "version_major": 2,
       "version_minor": 0,
       "model_id": "07504ffaa19c4d8abfe03e0c62130a6d"
      }
     },
     "metadata": {},
     "output_type": "display_data"
    },
    {
     "name": "stderr",
     "output_type": "stream",
     "text": [
      "WARNING:pgmpy:Probability values don't exactly sum to 1. Differ by: -2.220446049250313e-16. Adjusting values.\n",
      "WARNING:pgmpy:Probability values don't exactly sum to 1. Differ by: -2.220446049250313e-16. Adjusting values.\n",
      "WARNING:pgmpy:Probability values don't exactly sum to 1. Differ by: 2.220446049250313e-16. Adjusting values.\n",
      "WARNING:pgmpy:Probability values don't exactly sum to 1. Differ by: -2.220446049250313e-16. Adjusting values.\n",
      "WARNING:pgmpy:Probability values don't exactly sum to 1. Differ by: -2.220446049250313e-16. Adjusting values.\n",
      "WARNING:pgmpy:Probability values don't exactly sum to 1. Differ by: -2.220446049250313e-16. Adjusting values.\n",
      "WARNING:pgmpy:Probability values don't exactly sum to 1. Differ by: 3.3306690738754696e-16. Adjusting values.\n"
     ]
    }
   ],
   "execution_count": 6
  },
  {
   "metadata": {},
   "cell_type": "markdown",
   "source": "# 评测",
   "id": "acc6b02d7c720af3"
  },
  {
   "metadata": {},
   "cell_type": "markdown",
   "source": "## 评测原模型",
   "id": "c23cff92a237c2e2"
  },
  {
   "metadata": {
    "ExecuteTime": {
     "end_time": "2024-11-24T13:29:36.363207Z",
     "start_time": "2024-11-24T13:29:34.387587Z"
    }
   },
   "cell_type": "code",
   "source": "predict_result = predict(origin_model, samples_data, aim)",
   "id": "5acc25f03963603e",
   "outputs": [
    {
     "name": "stderr",
     "output_type": "stream",
     "text": [
      "WARNING:pgmpy:Replacing existing CPD for BirthAsphyxia\n",
      "WARNING:pgmpy:Replacing existing CPD for HypDistrib\n",
      "WARNING:pgmpy:Replacing existing CPD for HypoxiaInO2\n",
      "WARNING:pgmpy:Replacing existing CPD for CO2\n",
      "WARNING:pgmpy:Replacing existing CPD for ChestXray\n",
      "WARNING:pgmpy:Replacing existing CPD for Grunting\n",
      "WARNING:pgmpy:Replacing existing CPD for LVHreport\n",
      "WARNING:pgmpy:Replacing existing CPD for LowerBodyO2\n",
      "WARNING:pgmpy:Replacing existing CPD for RUQO2\n",
      "WARNING:pgmpy:Replacing existing CPD for CO2Report\n",
      "WARNING:pgmpy:Replacing existing CPD for XrayReport\n",
      "WARNING:pgmpy:Replacing existing CPD for Disease\n",
      "WARNING:pgmpy:Replacing existing CPD for GruntingReport\n",
      "WARNING:pgmpy:Replacing existing CPD for Age\n",
      "WARNING:pgmpy:Replacing existing CPD for LVH\n",
      "WARNING:pgmpy:Replacing existing CPD for DuctFlow\n",
      "WARNING:pgmpy:Replacing existing CPD for CardiacMixing\n",
      "WARNING:pgmpy:Replacing existing CPD for LungParench\n",
      "WARNING:pgmpy:Replacing existing CPD for LungFlow\n",
      "WARNING:pgmpy:Replacing existing CPD for Sick\n"
     ]
    },
    {
     "data": {
      "text/plain": [
       "  0%|          | 0/2810 [00:00<?, ?it/s]"
      ],
      "application/vnd.jupyter.widget-view+json": {
       "version_major": 2,
       "version_minor": 0,
       "model_id": "20281b9b6ea74657a34f977786693752"
      }
     },
     "metadata": {},
     "output_type": "display_data"
    }
   ],
   "execution_count": 7
  },
  {
   "metadata": {
    "ExecuteTime": {
     "end_time": "2024-11-24T13:29:36.625402Z",
     "start_time": "2024-11-24T13:29:36.371308Z"
    }
   },
   "cell_type": "code",
   "source": "res_json = calculate_metrics(predict_result, samples_data, aim)",
   "id": "7f720eb0ed894f15",
   "outputs": [
    {
     "name": "stdout",
     "output_type": "stream",
     "text": [
      "Evaluation Results:\n",
      "\n",
      "aim variable: GruntingReport\n",
      "Accuracy: 0.8782\n",
      "Recall: 0.8782\n",
      "Precision: 0.8749\n",
      "F1 Score: 0.8745\n",
      "\n",
      "\n",
      "aim variable: LowerBodyO2\n",
      "Accuracy: 0.5520\n",
      "Recall: 0.5520\n",
      "Precision: 0.5593\n",
      "F1 Score: 0.5492\n",
      "\n",
      "\n",
      "aim variable: RUQO2\n",
      "Accuracy: 0.5660\n",
      "Recall: 0.5660\n",
      "Precision: 0.5688\n",
      "F1 Score: 0.5644\n",
      "\n",
      "\n",
      "aim variable: CO2Report\n",
      "Accuracy: 0.9016\n",
      "Recall: 0.9016\n",
      "Precision: 0.9035\n",
      "F1 Score: 0.8960\n",
      "\n",
      "\n",
      "aim variable: XrayReport\n",
      "Accuracy: 0.7654\n",
      "Recall: 0.7654\n",
      "Precision: 0.7630\n",
      "F1 Score: 0.7610\n",
      "\n"
     ]
    }
   ],
   "execution_count": 8
  },
  {
   "metadata": {},
   "cell_type": "markdown",
   "source": "## 评测新模型",
   "id": "66cd7e431396f000"
  },
  {
   "metadata": {
    "ExecuteTime": {
     "end_time": "2024-11-24T13:35:30.606084Z",
     "start_time": "2024-11-24T13:35:30.587636Z"
    }
   },
   "cell_type": "code",
   "source": "samples_data",
   "id": "79dac7eaeec30dc8",
   "outputs": [
    {
     "data": {
      "text/plain": [
       "     BirthAsphyxia HypDistrib HypoxiaInO2     CO2  ChestXray Grunting  \\\n",
       "0               no      Equal    Moderate  Normal  Oligaemic       no   \n",
       "1               no      Equal        Mild  Normal  Plethoric       no   \n",
       "2               no      Equal    Moderate  Normal  Oligaemic       no   \n",
       "3               no      Equal    Moderate     Low  Oligaemic       no   \n",
       "4               no      Equal      Severe  Normal     Normal       no   \n",
       "...            ...        ...         ...     ...        ...      ...   \n",
       "4995            no      Equal      Severe  Normal  Plethoric       no   \n",
       "4996            no      Equal      Severe  Normal  Plethoric       no   \n",
       "4997            no      Equal      Severe  Normal  Plethoric       no   \n",
       "4998            no      Equal      Severe  Normal  Oligaemic       no   \n",
       "4999            no      Equal        Mild  Normal  Oligaemic       no   \n",
       "\n",
       "     LVHreport LowerBodyO2 RUQO2 CO2Report  XrayReport Disease GruntingReport  \\\n",
       "0           no          <5  5-12      <7.5  Asy/Patchy  Fallot             no   \n",
       "1           no         12+    <5      <7.5   Plethoric     TGA             no   \n",
       "2           no        5-12    <5      <7.5   Oligaemic  Fallot             no   \n",
       "3          yes        5-12  5-12      <7.5   Oligaemic   PAIVS             no   \n",
       "4          yes        5-12  5-12      <7.5   Grd_Glass   PAIVS             no   \n",
       "...        ...         ...   ...       ...         ...     ...            ...   \n",
       "4995        no        5-12  5-12      <7.5   Plethoric     TGA             no   \n",
       "4996        no          <5    <5      <7.5   Plethoric     TGA             no   \n",
       "4997        no        5-12   12+      <7.5   Plethoric     TGA             no   \n",
       "4998        no          <5   12+      <7.5   Oligaemic   TAPVD             no   \n",
       "4999       yes         12+    <5      <7.5      Normal  Fallot             no   \n",
       "\n",
       "             Age  LVH  DuctFlow CardiacMixing LungParench LungFlow Sick  \n",
       "0     11-30_days   no  Lt_to_Rt      Complete      Normal      Low   no  \n",
       "1       0-3_days   no      None          None      Normal     High  yes  \n",
       "2     11-30_days   no  Lt_to_Rt      Complete      Normal      Low   no  \n",
       "3       0-3_days  yes  Lt_to_Rt      Complete      Normal      Low   no  \n",
       "4       0-3_days  yes  Lt_to_Rt      Complete      Normal      Low   no  \n",
       "...          ...  ...       ...           ...         ...      ...  ...  \n",
       "4995    0-3_days   no      None       Transp.      Normal     High   no  \n",
       "4996   4-10_days   no      None       Transp.      Normal     High   no  \n",
       "4997  11-30_days   no      None       Transp.      Normal     High   no  \n",
       "4998    0-3_days   no  Rt_to_Lt      Complete    Abnormal     High  yes  \n",
       "4999    0-3_days  yes  Lt_to_Rt      Complete      Normal      Low   no  \n",
       "\n",
       "[5000 rows x 20 columns]"
      ],
      "text/html": [
       "<div>\n",
       "<style scoped>\n",
       "    .dataframe tbody tr th:only-of-type {\n",
       "        vertical-align: middle;\n",
       "    }\n",
       "\n",
       "    .dataframe tbody tr th {\n",
       "        vertical-align: top;\n",
       "    }\n",
       "\n",
       "    .dataframe thead th {\n",
       "        text-align: right;\n",
       "    }\n",
       "</style>\n",
       "<table border=\"1\" class=\"dataframe\">\n",
       "  <thead>\n",
       "    <tr style=\"text-align: right;\">\n",
       "      <th></th>\n",
       "      <th>BirthAsphyxia</th>\n",
       "      <th>HypDistrib</th>\n",
       "      <th>HypoxiaInO2</th>\n",
       "      <th>CO2</th>\n",
       "      <th>ChestXray</th>\n",
       "      <th>Grunting</th>\n",
       "      <th>LVHreport</th>\n",
       "      <th>LowerBodyO2</th>\n",
       "      <th>RUQO2</th>\n",
       "      <th>CO2Report</th>\n",
       "      <th>XrayReport</th>\n",
       "      <th>Disease</th>\n",
       "      <th>GruntingReport</th>\n",
       "      <th>Age</th>\n",
       "      <th>LVH</th>\n",
       "      <th>DuctFlow</th>\n",
       "      <th>CardiacMixing</th>\n",
       "      <th>LungParench</th>\n",
       "      <th>LungFlow</th>\n",
       "      <th>Sick</th>\n",
       "    </tr>\n",
       "  </thead>\n",
       "  <tbody>\n",
       "    <tr>\n",
       "      <th>0</th>\n",
       "      <td>no</td>\n",
       "      <td>Equal</td>\n",
       "      <td>Moderate</td>\n",
       "      <td>Normal</td>\n",
       "      <td>Oligaemic</td>\n",
       "      <td>no</td>\n",
       "      <td>no</td>\n",
       "      <td>&lt;5</td>\n",
       "      <td>5-12</td>\n",
       "      <td>&lt;7.5</td>\n",
       "      <td>Asy/Patchy</td>\n",
       "      <td>Fallot</td>\n",
       "      <td>no</td>\n",
       "      <td>11-30_days</td>\n",
       "      <td>no</td>\n",
       "      <td>Lt_to_Rt</td>\n",
       "      <td>Complete</td>\n",
       "      <td>Normal</td>\n",
       "      <td>Low</td>\n",
       "      <td>no</td>\n",
       "    </tr>\n",
       "    <tr>\n",
       "      <th>1</th>\n",
       "      <td>no</td>\n",
       "      <td>Equal</td>\n",
       "      <td>Mild</td>\n",
       "      <td>Normal</td>\n",
       "      <td>Plethoric</td>\n",
       "      <td>no</td>\n",
       "      <td>no</td>\n",
       "      <td>12+</td>\n",
       "      <td>&lt;5</td>\n",
       "      <td>&lt;7.5</td>\n",
       "      <td>Plethoric</td>\n",
       "      <td>TGA</td>\n",
       "      <td>no</td>\n",
       "      <td>0-3_days</td>\n",
       "      <td>no</td>\n",
       "      <td>None</td>\n",
       "      <td>None</td>\n",
       "      <td>Normal</td>\n",
       "      <td>High</td>\n",
       "      <td>yes</td>\n",
       "    </tr>\n",
       "    <tr>\n",
       "      <th>2</th>\n",
       "      <td>no</td>\n",
       "      <td>Equal</td>\n",
       "      <td>Moderate</td>\n",
       "      <td>Normal</td>\n",
       "      <td>Oligaemic</td>\n",
       "      <td>no</td>\n",
       "      <td>no</td>\n",
       "      <td>5-12</td>\n",
       "      <td>&lt;5</td>\n",
       "      <td>&lt;7.5</td>\n",
       "      <td>Oligaemic</td>\n",
       "      <td>Fallot</td>\n",
       "      <td>no</td>\n",
       "      <td>11-30_days</td>\n",
       "      <td>no</td>\n",
       "      <td>Lt_to_Rt</td>\n",
       "      <td>Complete</td>\n",
       "      <td>Normal</td>\n",
       "      <td>Low</td>\n",
       "      <td>no</td>\n",
       "    </tr>\n",
       "    <tr>\n",
       "      <th>3</th>\n",
       "      <td>no</td>\n",
       "      <td>Equal</td>\n",
       "      <td>Moderate</td>\n",
       "      <td>Low</td>\n",
       "      <td>Oligaemic</td>\n",
       "      <td>no</td>\n",
       "      <td>yes</td>\n",
       "      <td>5-12</td>\n",
       "      <td>5-12</td>\n",
       "      <td>&lt;7.5</td>\n",
       "      <td>Oligaemic</td>\n",
       "      <td>PAIVS</td>\n",
       "      <td>no</td>\n",
       "      <td>0-3_days</td>\n",
       "      <td>yes</td>\n",
       "      <td>Lt_to_Rt</td>\n",
       "      <td>Complete</td>\n",
       "      <td>Normal</td>\n",
       "      <td>Low</td>\n",
       "      <td>no</td>\n",
       "    </tr>\n",
       "    <tr>\n",
       "      <th>4</th>\n",
       "      <td>no</td>\n",
       "      <td>Equal</td>\n",
       "      <td>Severe</td>\n",
       "      <td>Normal</td>\n",
       "      <td>Normal</td>\n",
       "      <td>no</td>\n",
       "      <td>yes</td>\n",
       "      <td>5-12</td>\n",
       "      <td>5-12</td>\n",
       "      <td>&lt;7.5</td>\n",
       "      <td>Grd_Glass</td>\n",
       "      <td>PAIVS</td>\n",
       "      <td>no</td>\n",
       "      <td>0-3_days</td>\n",
       "      <td>yes</td>\n",
       "      <td>Lt_to_Rt</td>\n",
       "      <td>Complete</td>\n",
       "      <td>Normal</td>\n",
       "      <td>Low</td>\n",
       "      <td>no</td>\n",
       "    </tr>\n",
       "    <tr>\n",
       "      <th>...</th>\n",
       "      <td>...</td>\n",
       "      <td>...</td>\n",
       "      <td>...</td>\n",
       "      <td>...</td>\n",
       "      <td>...</td>\n",
       "      <td>...</td>\n",
       "      <td>...</td>\n",
       "      <td>...</td>\n",
       "      <td>...</td>\n",
       "      <td>...</td>\n",
       "      <td>...</td>\n",
       "      <td>...</td>\n",
       "      <td>...</td>\n",
       "      <td>...</td>\n",
       "      <td>...</td>\n",
       "      <td>...</td>\n",
       "      <td>...</td>\n",
       "      <td>...</td>\n",
       "      <td>...</td>\n",
       "      <td>...</td>\n",
       "    </tr>\n",
       "    <tr>\n",
       "      <th>4995</th>\n",
       "      <td>no</td>\n",
       "      <td>Equal</td>\n",
       "      <td>Severe</td>\n",
       "      <td>Normal</td>\n",
       "      <td>Plethoric</td>\n",
       "      <td>no</td>\n",
       "      <td>no</td>\n",
       "      <td>5-12</td>\n",
       "      <td>5-12</td>\n",
       "      <td>&lt;7.5</td>\n",
       "      <td>Plethoric</td>\n",
       "      <td>TGA</td>\n",
       "      <td>no</td>\n",
       "      <td>0-3_days</td>\n",
       "      <td>no</td>\n",
       "      <td>None</td>\n",
       "      <td>Transp.</td>\n",
       "      <td>Normal</td>\n",
       "      <td>High</td>\n",
       "      <td>no</td>\n",
       "    </tr>\n",
       "    <tr>\n",
       "      <th>4996</th>\n",
       "      <td>no</td>\n",
       "      <td>Equal</td>\n",
       "      <td>Severe</td>\n",
       "      <td>Normal</td>\n",
       "      <td>Plethoric</td>\n",
       "      <td>no</td>\n",
       "      <td>no</td>\n",
       "      <td>&lt;5</td>\n",
       "      <td>&lt;5</td>\n",
       "      <td>&lt;7.5</td>\n",
       "      <td>Plethoric</td>\n",
       "      <td>TGA</td>\n",
       "      <td>no</td>\n",
       "      <td>4-10_days</td>\n",
       "      <td>no</td>\n",
       "      <td>None</td>\n",
       "      <td>Transp.</td>\n",
       "      <td>Normal</td>\n",
       "      <td>High</td>\n",
       "      <td>no</td>\n",
       "    </tr>\n",
       "    <tr>\n",
       "      <th>4997</th>\n",
       "      <td>no</td>\n",
       "      <td>Equal</td>\n",
       "      <td>Severe</td>\n",
       "      <td>Normal</td>\n",
       "      <td>Plethoric</td>\n",
       "      <td>no</td>\n",
       "      <td>no</td>\n",
       "      <td>5-12</td>\n",
       "      <td>12+</td>\n",
       "      <td>&lt;7.5</td>\n",
       "      <td>Plethoric</td>\n",
       "      <td>TGA</td>\n",
       "      <td>no</td>\n",
       "      <td>11-30_days</td>\n",
       "      <td>no</td>\n",
       "      <td>None</td>\n",
       "      <td>Transp.</td>\n",
       "      <td>Normal</td>\n",
       "      <td>High</td>\n",
       "      <td>no</td>\n",
       "    </tr>\n",
       "    <tr>\n",
       "      <th>4998</th>\n",
       "      <td>no</td>\n",
       "      <td>Equal</td>\n",
       "      <td>Severe</td>\n",
       "      <td>Normal</td>\n",
       "      <td>Oligaemic</td>\n",
       "      <td>no</td>\n",
       "      <td>no</td>\n",
       "      <td>&lt;5</td>\n",
       "      <td>12+</td>\n",
       "      <td>&lt;7.5</td>\n",
       "      <td>Oligaemic</td>\n",
       "      <td>TAPVD</td>\n",
       "      <td>no</td>\n",
       "      <td>0-3_days</td>\n",
       "      <td>no</td>\n",
       "      <td>Rt_to_Lt</td>\n",
       "      <td>Complete</td>\n",
       "      <td>Abnormal</td>\n",
       "      <td>High</td>\n",
       "      <td>yes</td>\n",
       "    </tr>\n",
       "    <tr>\n",
       "      <th>4999</th>\n",
       "      <td>no</td>\n",
       "      <td>Equal</td>\n",
       "      <td>Mild</td>\n",
       "      <td>Normal</td>\n",
       "      <td>Oligaemic</td>\n",
       "      <td>no</td>\n",
       "      <td>yes</td>\n",
       "      <td>12+</td>\n",
       "      <td>&lt;5</td>\n",
       "      <td>&lt;7.5</td>\n",
       "      <td>Normal</td>\n",
       "      <td>Fallot</td>\n",
       "      <td>no</td>\n",
       "      <td>0-3_days</td>\n",
       "      <td>yes</td>\n",
       "      <td>Lt_to_Rt</td>\n",
       "      <td>Complete</td>\n",
       "      <td>Normal</td>\n",
       "      <td>Low</td>\n",
       "      <td>no</td>\n",
       "    </tr>\n",
       "  </tbody>\n",
       "</table>\n",
       "<p>5000 rows × 20 columns</p>\n",
       "</div>"
      ]
     },
     "execution_count": 10,
     "metadata": {},
     "output_type": "execute_result"
    }
   ],
   "execution_count": 10
  },
  {
   "metadata": {
    "ExecuteTime": {
     "end_time": "2024-11-24T13:29:37.220797Z",
     "start_time": "2024-11-24T13:29:36.636795Z"
    }
   },
   "cell_type": "code",
   "source": "predict_result = predict(MStar_model, samples_data, aim)",
   "id": "e5e2f7d022e41765",
   "outputs": [
    {
     "ename": "KeyError",
     "evalue": "'HypoxiaDistribution'",
     "output_type": "error",
     "traceback": [
      "\u001B[0;31m---------------------------------------------------------------------------\u001B[0m",
      "\u001B[0;31mKeyError\u001B[0m                                  Traceback (most recent call last)",
      "Cell \u001B[0;32mIn[9], line 1\u001B[0m\n\u001B[0;32m----> 1\u001B[0m predict_result \u001B[38;5;241m=\u001B[39m \u001B[43mpredict\u001B[49m\u001B[43m(\u001B[49m\u001B[43mMStar_model\u001B[49m\u001B[43m,\u001B[49m\u001B[43m \u001B[49m\u001B[43msamples_data\u001B[49m\u001B[43m,\u001B[49m\u001B[43m \u001B[49m\u001B[43maim\u001B[49m\u001B[43m)\u001B[49m\n",
      "File \u001B[0;32m~/Desktop/Projects/实验室/114项目/Lab1_CausalGenerationResultAnalysis/evaluate.py:27\u001B[0m, in \u001B[0;36mpredict\u001B[0;34m(model_in, data, aim_variables_lst)\u001B[0m\n\u001B[1;32m     24\u001B[0m drop_data \u001B[38;5;241m=\u001B[39m data\u001B[38;5;241m.\u001B[39mdrop(aim_variables_lst, axis\u001B[38;5;241m=\u001B[39m\u001B[38;5;241m1\u001B[39m)\n\u001B[1;32m     26\u001B[0m \u001B[38;5;66;03m# 使用处理后的数据集对模型进行训练\u001B[39;00m\n\u001B[0;32m---> 27\u001B[0m \u001B[43mmodel_in\u001B[49m\u001B[38;5;241;43m.\u001B[39;49m\u001B[43mfit\u001B[49m\u001B[43m(\u001B[49m\u001B[43mdata\u001B[49m\u001B[43m)\u001B[49m\n\u001B[1;32m     29\u001B[0m \u001B[38;5;66;03m# 返回模型对处理后数据集的预测结果\u001B[39;00m\n\u001B[1;32m     30\u001B[0m \u001B[38;5;28;01mreturn\u001B[39;00m model_in\u001B[38;5;241m.\u001B[39mpredict(drop_data)\n",
      "File \u001B[0;32m~/anaconda3/envs/NORMALPYTHON/lib/python3.9/site-packages/pgmpy/models/BayesianNetwork.py:579\u001B[0m, in \u001B[0;36mBayesianNetwork.fit\u001B[0;34m(self, data, estimator, state_names, n_jobs, **kwargs)\u001B[0m\n\u001B[1;32m    572\u001B[0m         \u001B[38;5;28;01mraise\u001B[39;00m \u001B[38;5;167;01mTypeError\u001B[39;00m(\u001B[38;5;124m\"\u001B[39m\u001B[38;5;124mEstimator object should be a valid pgmpy estimator.\u001B[39m\u001B[38;5;124m\"\u001B[39m)\n\u001B[1;32m    574\u001B[0m _estimator \u001B[38;5;241m=\u001B[39m estimator(\n\u001B[1;32m    575\u001B[0m     \u001B[38;5;28mself\u001B[39m,\n\u001B[1;32m    576\u001B[0m     data,\n\u001B[1;32m    577\u001B[0m     state_names\u001B[38;5;241m=\u001B[39mstate_names,\n\u001B[1;32m    578\u001B[0m )\n\u001B[0;32m--> 579\u001B[0m cpds_list \u001B[38;5;241m=\u001B[39m \u001B[43m_estimator\u001B[49m\u001B[38;5;241;43m.\u001B[39;49m\u001B[43mget_parameters\u001B[49m\u001B[43m(\u001B[49m\u001B[43mn_jobs\u001B[49m\u001B[38;5;241;43m=\u001B[39;49m\u001B[43mn_jobs\u001B[49m\u001B[43m,\u001B[49m\u001B[43m \u001B[49m\u001B[38;5;241;43m*\u001B[39;49m\u001B[38;5;241;43m*\u001B[39;49m\u001B[43mkwargs\u001B[49m\u001B[43m)\u001B[49m\n\u001B[1;32m    580\u001B[0m \u001B[38;5;28mself\u001B[39m\u001B[38;5;241m.\u001B[39madd_cpds(\u001B[38;5;241m*\u001B[39mcpds_list)\n",
      "File \u001B[0;32m~/anaconda3/envs/NORMALPYTHON/lib/python3.9/site-packages/pgmpy/estimators/MLE.py:106\u001B[0m, in \u001B[0;36mMaximumLikelihoodEstimator.get_parameters\u001B[0;34m(self, n_jobs, weighted)\u001B[0m\n\u001B[1;32m    103\u001B[0m \u001B[38;5;28;01mif\u001B[39;00m \u001B[38;5;28misinstance\u001B[39m(\u001B[38;5;28mself\u001B[39m\u001B[38;5;241m.\u001B[39mmodel, JunctionTree):\n\u001B[1;32m    104\u001B[0m     \u001B[38;5;28;01mreturn\u001B[39;00m \u001B[38;5;28mself\u001B[39m\u001B[38;5;241m.\u001B[39mestimate_potentials()\n\u001B[0;32m--> 106\u001B[0m parameters \u001B[38;5;241m=\u001B[39m \u001B[43mParallel\u001B[49m\u001B[43m(\u001B[49m\u001B[43mn_jobs\u001B[49m\u001B[38;5;241;43m=\u001B[39;49m\u001B[43mn_jobs\u001B[49m\u001B[43m)\u001B[49m\u001B[43m(\u001B[49m\n\u001B[1;32m    107\u001B[0m \u001B[43m    \u001B[49m\u001B[43mdelayed\u001B[49m\u001B[43m(\u001B[49m\u001B[38;5;28;43mself\u001B[39;49m\u001B[38;5;241;43m.\u001B[39;49m\u001B[43mestimate_cpd\u001B[49m\u001B[43m)\u001B[49m\u001B[43m(\u001B[49m\u001B[43mnode\u001B[49m\u001B[43m,\u001B[49m\u001B[43m \u001B[49m\u001B[43mweighted\u001B[49m\u001B[43m)\u001B[49m\u001B[43m \u001B[49m\u001B[38;5;28;43;01mfor\u001B[39;49;00m\u001B[43m \u001B[49m\u001B[43mnode\u001B[49m\u001B[43m \u001B[49m\u001B[38;5;129;43;01min\u001B[39;49;00m\u001B[43m \u001B[49m\u001B[38;5;28;43mself\u001B[39;49m\u001B[38;5;241;43m.\u001B[39;49m\u001B[43mmodel\u001B[49m\u001B[38;5;241;43m.\u001B[39;49m\u001B[43mnodes\u001B[49m\u001B[43m(\u001B[49m\u001B[43m)\u001B[49m\n\u001B[1;32m    108\u001B[0m \u001B[43m\u001B[49m\u001B[43m)\u001B[49m\n\u001B[1;32m    109\u001B[0m \u001B[38;5;66;03m# TODO: A hacky solution to return correct value for the chosen backend. Ref #1675\u001B[39;00m\n\u001B[1;32m    110\u001B[0m parameters \u001B[38;5;241m=\u001B[39m [p\u001B[38;5;241m.\u001B[39mcopy() \u001B[38;5;28;01mfor\u001B[39;00m p \u001B[38;5;129;01min\u001B[39;00m parameters]\n",
      "File \u001B[0;32m~/anaconda3/envs/NORMALPYTHON/lib/python3.9/site-packages/joblib/parallel.py:1918\u001B[0m, in \u001B[0;36mParallel.__call__\u001B[0;34m(self, iterable)\u001B[0m\n\u001B[1;32m   1916\u001B[0m     output \u001B[38;5;241m=\u001B[39m \u001B[38;5;28mself\u001B[39m\u001B[38;5;241m.\u001B[39m_get_sequential_output(iterable)\n\u001B[1;32m   1917\u001B[0m     \u001B[38;5;28mnext\u001B[39m(output)\n\u001B[0;32m-> 1918\u001B[0m     \u001B[38;5;28;01mreturn\u001B[39;00m output \u001B[38;5;28;01mif\u001B[39;00m \u001B[38;5;28mself\u001B[39m\u001B[38;5;241m.\u001B[39mreturn_generator \u001B[38;5;28;01melse\u001B[39;00m \u001B[38;5;28;43mlist\u001B[39;49m\u001B[43m(\u001B[49m\u001B[43moutput\u001B[49m\u001B[43m)\u001B[49m\n\u001B[1;32m   1920\u001B[0m \u001B[38;5;66;03m# Let's create an ID that uniquely identifies the current call. If the\u001B[39;00m\n\u001B[1;32m   1921\u001B[0m \u001B[38;5;66;03m# call is interrupted early and that the same instance is immediately\u001B[39;00m\n\u001B[1;32m   1922\u001B[0m \u001B[38;5;66;03m# re-used, this id will be used to prevent workers that were\u001B[39;00m\n\u001B[1;32m   1923\u001B[0m \u001B[38;5;66;03m# concurrently finalizing a task from the previous call to run the\u001B[39;00m\n\u001B[1;32m   1924\u001B[0m \u001B[38;5;66;03m# callback.\u001B[39;00m\n\u001B[1;32m   1925\u001B[0m \u001B[38;5;28;01mwith\u001B[39;00m \u001B[38;5;28mself\u001B[39m\u001B[38;5;241m.\u001B[39m_lock:\n",
      "File \u001B[0;32m~/anaconda3/envs/NORMALPYTHON/lib/python3.9/site-packages/joblib/parallel.py:1847\u001B[0m, in \u001B[0;36mParallel._get_sequential_output\u001B[0;34m(self, iterable)\u001B[0m\n\u001B[1;32m   1845\u001B[0m \u001B[38;5;28mself\u001B[39m\u001B[38;5;241m.\u001B[39mn_dispatched_batches \u001B[38;5;241m+\u001B[39m\u001B[38;5;241m=\u001B[39m \u001B[38;5;241m1\u001B[39m\n\u001B[1;32m   1846\u001B[0m \u001B[38;5;28mself\u001B[39m\u001B[38;5;241m.\u001B[39mn_dispatched_tasks \u001B[38;5;241m+\u001B[39m\u001B[38;5;241m=\u001B[39m \u001B[38;5;241m1\u001B[39m\n\u001B[0;32m-> 1847\u001B[0m res \u001B[38;5;241m=\u001B[39m \u001B[43mfunc\u001B[49m\u001B[43m(\u001B[49m\u001B[38;5;241;43m*\u001B[39;49m\u001B[43margs\u001B[49m\u001B[43m,\u001B[49m\u001B[43m \u001B[49m\u001B[38;5;241;43m*\u001B[39;49m\u001B[38;5;241;43m*\u001B[39;49m\u001B[43mkwargs\u001B[49m\u001B[43m)\u001B[49m\n\u001B[1;32m   1848\u001B[0m \u001B[38;5;28mself\u001B[39m\u001B[38;5;241m.\u001B[39mn_completed_tasks \u001B[38;5;241m+\u001B[39m\u001B[38;5;241m=\u001B[39m \u001B[38;5;241m1\u001B[39m\n\u001B[1;32m   1849\u001B[0m \u001B[38;5;28mself\u001B[39m\u001B[38;5;241m.\u001B[39mprint_progress()\n",
      "File \u001B[0;32m~/anaconda3/envs/NORMALPYTHON/lib/python3.9/site-packages/pgmpy/estimators/MLE.py:160\u001B[0m, in \u001B[0;36mMaximumLikelihoodEstimator.estimate_cpd\u001B[0;34m(self, node, weighted)\u001B[0m\n\u001B[1;32m    114\u001B[0m \u001B[38;5;28;01mdef\u001B[39;00m \u001B[38;5;21mestimate_cpd\u001B[39m(\u001B[38;5;28mself\u001B[39m, node, weighted\u001B[38;5;241m=\u001B[39m\u001B[38;5;28;01mFalse\u001B[39;00m):\n\u001B[1;32m    115\u001B[0m \u001B[38;5;250m    \u001B[39m\u001B[38;5;124;03m\"\"\"\u001B[39;00m\n\u001B[1;32m    116\u001B[0m \u001B[38;5;124;03m    Method to estimate the CPD for a given variable.\u001B[39;00m\n\u001B[1;32m    117\u001B[0m \n\u001B[0;32m   (...)\u001B[0m\n\u001B[1;32m    157\u001B[0m \u001B[38;5;124;03m    ╘══════╧══════╧══════╧══════╧══════╛\u001B[39;00m\n\u001B[1;32m    158\u001B[0m \u001B[38;5;124;03m    \"\"\"\u001B[39;00m\n\u001B[0;32m--> 160\u001B[0m     state_counts \u001B[38;5;241m=\u001B[39m \u001B[38;5;28;43mself\u001B[39;49m\u001B[38;5;241;43m.\u001B[39;49m\u001B[43mstate_counts\u001B[49m\u001B[43m(\u001B[49m\u001B[43mnode\u001B[49m\u001B[43m,\u001B[49m\u001B[43m \u001B[49m\u001B[43mweighted\u001B[49m\u001B[38;5;241;43m=\u001B[39;49m\u001B[43mweighted\u001B[49m\u001B[43m)\u001B[49m\n\u001B[1;32m    162\u001B[0m     \u001B[38;5;66;03m# if a column contains only `0`s (no states observed for some configuration\u001B[39;00m\n\u001B[1;32m    163\u001B[0m     \u001B[38;5;66;03m# of parents' states) fill that column uniformly instead\u001B[39;00m\n\u001B[1;32m    164\u001B[0m     state_counts\u001B[38;5;241m.\u001B[39miloc[:, (state_counts\u001B[38;5;241m.\u001B[39mvalues \u001B[38;5;241m==\u001B[39m \u001B[38;5;241m0\u001B[39m)\u001B[38;5;241m.\u001B[39mall(axis\u001B[38;5;241m=\u001B[39m\u001B[38;5;241m0\u001B[39m)] \u001B[38;5;241m=\u001B[39m \u001B[38;5;241m1.0\u001B[39m\n",
      "File \u001B[0;32m~/anaconda3/envs/NORMALPYTHON/lib/python3.9/site-packages/pgmpy/estimators/base.py:264\u001B[0m, in \u001B[0;36mParameterEstimator.state_counts\u001B[0;34m(self, variable, weighted, **kwargs)\u001B[0m\n\u001B[1;32m    226\u001B[0m \u001B[38;5;250m\u001B[39m\u001B[38;5;124;03m\"\"\"\u001B[39;00m\n\u001B[1;32m    227\u001B[0m \u001B[38;5;124;03mReturn counts how often each state of 'variable' occurred in the data.\u001B[39;00m\n\u001B[1;32m    228\u001B[0m \u001B[38;5;124;03mIf the variable has parents, counting is done conditionally\u001B[39;00m\n\u001B[0;32m   (...)\u001B[0m\n\u001B[1;32m    260\u001B[0m \u001B[38;5;124;03mc2  0   0   1   0\u001B[39;00m\n\u001B[1;32m    261\u001B[0m \u001B[38;5;124;03m\"\"\"\u001B[39;00m\n\u001B[1;32m    263\u001B[0m parents \u001B[38;5;241m=\u001B[39m \u001B[38;5;28msorted\u001B[39m(\u001B[38;5;28mself\u001B[39m\u001B[38;5;241m.\u001B[39mmodel\u001B[38;5;241m.\u001B[39mget_parents(variable))\n\u001B[0;32m--> 264\u001B[0m \u001B[38;5;28;01mreturn\u001B[39;00m \u001B[38;5;28;43msuper\u001B[39;49m\u001B[43m(\u001B[49m\u001B[43mParameterEstimator\u001B[49m\u001B[43m,\u001B[49m\u001B[43m \u001B[49m\u001B[38;5;28;43mself\u001B[39;49m\u001B[43m)\u001B[49m\u001B[38;5;241;43m.\u001B[39;49m\u001B[43mstate_counts\u001B[49m\u001B[43m(\u001B[49m\n\u001B[1;32m    265\u001B[0m \u001B[43m    \u001B[49m\u001B[43mvariable\u001B[49m\u001B[43m,\u001B[49m\u001B[43m \u001B[49m\u001B[43mparents\u001B[49m\u001B[38;5;241;43m=\u001B[39;49m\u001B[43mparents\u001B[49m\u001B[43m,\u001B[49m\u001B[43m \u001B[49m\u001B[43mweighted\u001B[49m\u001B[38;5;241;43m=\u001B[39;49m\u001B[43mweighted\u001B[49m\u001B[43m,\u001B[49m\u001B[43m \u001B[49m\u001B[38;5;241;43m*\u001B[39;49m\u001B[38;5;241;43m*\u001B[39;49m\u001B[43mkwargs\u001B[49m\n\u001B[1;32m    266\u001B[0m \u001B[43m\u001B[49m\u001B[43m)\u001B[49m\n",
      "File \u001B[0;32m~/anaconda3/envs/NORMALPYTHON/lib/python3.9/site-packages/pgmpy/estimators/base.py:150\u001B[0m, in \u001B[0;36mBaseEstimator.state_counts\u001B[0;34m(self, variable, parents, weighted, reindex)\u001B[0m\n\u001B[1;32m    142\u001B[0m     state_count_data \u001B[38;5;241m=\u001B[39m (\n\u001B[1;32m    143\u001B[0m         \u001B[38;5;28mself\u001B[39m\u001B[38;5;241m.\u001B[39mdata\u001B[38;5;241m.\u001B[39mgroupby([variable] \u001B[38;5;241m+\u001B[39m parents)[\u001B[38;5;124m\"\u001B[39m\u001B[38;5;124m_weight\u001B[39m\u001B[38;5;124m\"\u001B[39m]\n\u001B[1;32m    144\u001B[0m         \u001B[38;5;241m.\u001B[39msum()\n\u001B[1;32m    145\u001B[0m         \u001B[38;5;241m.\u001B[39munstack(parents)\n\u001B[1;32m    146\u001B[0m     )\n\u001B[1;32m    148\u001B[0m \u001B[38;5;28;01melse\u001B[39;00m:\n\u001B[1;32m    149\u001B[0m     state_count_data \u001B[38;5;241m=\u001B[39m (\n\u001B[0;32m--> 150\u001B[0m         \u001B[38;5;28;43mself\u001B[39;49m\u001B[38;5;241;43m.\u001B[39;49m\u001B[43mdata\u001B[49m\u001B[38;5;241;43m.\u001B[39;49m\u001B[43mgroupby\u001B[49m\u001B[43m(\u001B[49m\u001B[43m[\u001B[49m\u001B[43mvariable\u001B[49m\u001B[43m]\u001B[49m\u001B[43m \u001B[49m\u001B[38;5;241;43m+\u001B[39;49m\u001B[43m \u001B[49m\u001B[43mparents\u001B[49m\u001B[43m,\u001B[49m\u001B[43m \u001B[49m\u001B[43mobserved\u001B[49m\u001B[38;5;241;43m=\u001B[39;49m\u001B[38;5;28;43;01mTrue\u001B[39;49;00m\u001B[43m)\u001B[49m\n\u001B[1;32m    151\u001B[0m         \u001B[38;5;241m.\u001B[39msize()\n\u001B[1;32m    152\u001B[0m         \u001B[38;5;241m.\u001B[39munstack(parents)\n\u001B[1;32m    153\u001B[0m     )\n\u001B[1;32m    155\u001B[0m \u001B[38;5;28;01mif\u001B[39;00m \u001B[38;5;129;01mnot\u001B[39;00m \u001B[38;5;28misinstance\u001B[39m(state_count_data\u001B[38;5;241m.\u001B[39mcolumns, pd\u001B[38;5;241m.\u001B[39mMultiIndex):\n\u001B[1;32m    156\u001B[0m     state_count_data\u001B[38;5;241m.\u001B[39mcolumns \u001B[38;5;241m=\u001B[39m pd\u001B[38;5;241m.\u001B[39mMultiIndex\u001B[38;5;241m.\u001B[39mfrom_arrays(\n\u001B[1;32m    157\u001B[0m         [state_count_data\u001B[38;5;241m.\u001B[39mcolumns]\n\u001B[1;32m    158\u001B[0m     )\n",
      "File \u001B[0;32m~/anaconda3/envs/NORMALPYTHON/lib/python3.9/site-packages/pandas/core/frame.py:7721\u001B[0m, in \u001B[0;36mDataFrame.groupby\u001B[0;34m(self, by, axis, level, as_index, sort, group_keys, squeeze, observed, dropna)\u001B[0m\n\u001B[1;32m   7716\u001B[0m axis \u001B[38;5;241m=\u001B[39m \u001B[38;5;28mself\u001B[39m\u001B[38;5;241m.\u001B[39m_get_axis_number(axis)\n\u001B[1;32m   7718\u001B[0m \u001B[38;5;66;03m# https://github.com/python/mypy/issues/7642\u001B[39;00m\n\u001B[1;32m   7719\u001B[0m \u001B[38;5;66;03m# error: Argument \"squeeze\" to \"DataFrameGroupBy\" has incompatible type\u001B[39;00m\n\u001B[1;32m   7720\u001B[0m \u001B[38;5;66;03m# \"Union[bool, NoDefault]\"; expected \"bool\"\u001B[39;00m\n\u001B[0;32m-> 7721\u001B[0m \u001B[38;5;28;01mreturn\u001B[39;00m \u001B[43mDataFrameGroupBy\u001B[49m\u001B[43m(\u001B[49m\n\u001B[1;32m   7722\u001B[0m \u001B[43m    \u001B[49m\u001B[43mobj\u001B[49m\u001B[38;5;241;43m=\u001B[39;49m\u001B[38;5;28;43mself\u001B[39;49m\u001B[43m,\u001B[49m\n\u001B[1;32m   7723\u001B[0m \u001B[43m    \u001B[49m\u001B[43mkeys\u001B[49m\u001B[38;5;241;43m=\u001B[39;49m\u001B[43mby\u001B[49m\u001B[43m,\u001B[49m\n\u001B[1;32m   7724\u001B[0m \u001B[43m    \u001B[49m\u001B[43maxis\u001B[49m\u001B[38;5;241;43m=\u001B[39;49m\u001B[43maxis\u001B[49m\u001B[43m,\u001B[49m\n\u001B[1;32m   7725\u001B[0m \u001B[43m    \u001B[49m\u001B[43mlevel\u001B[49m\u001B[38;5;241;43m=\u001B[39;49m\u001B[43mlevel\u001B[49m\u001B[43m,\u001B[49m\n\u001B[1;32m   7726\u001B[0m \u001B[43m    \u001B[49m\u001B[43mas_index\u001B[49m\u001B[38;5;241;43m=\u001B[39;49m\u001B[43mas_index\u001B[49m\u001B[43m,\u001B[49m\n\u001B[1;32m   7727\u001B[0m \u001B[43m    \u001B[49m\u001B[43msort\u001B[49m\u001B[38;5;241;43m=\u001B[39;49m\u001B[43msort\u001B[49m\u001B[43m,\u001B[49m\n\u001B[1;32m   7728\u001B[0m \u001B[43m    \u001B[49m\u001B[43mgroup_keys\u001B[49m\u001B[38;5;241;43m=\u001B[39;49m\u001B[43mgroup_keys\u001B[49m\u001B[43m,\u001B[49m\n\u001B[1;32m   7729\u001B[0m \u001B[43m    \u001B[49m\u001B[43msqueeze\u001B[49m\u001B[38;5;241;43m=\u001B[39;49m\u001B[43msqueeze\u001B[49m\u001B[43m,\u001B[49m\u001B[43m  \u001B[49m\u001B[38;5;66;43;03m# type: ignore[arg-type]\u001B[39;49;00m\n\u001B[1;32m   7730\u001B[0m \u001B[43m    \u001B[49m\u001B[43mobserved\u001B[49m\u001B[38;5;241;43m=\u001B[39;49m\u001B[43mobserved\u001B[49m\u001B[43m,\u001B[49m\n\u001B[1;32m   7731\u001B[0m \u001B[43m    \u001B[49m\u001B[43mdropna\u001B[49m\u001B[38;5;241;43m=\u001B[39;49m\u001B[43mdropna\u001B[49m\u001B[43m,\u001B[49m\n\u001B[1;32m   7732\u001B[0m \u001B[43m\u001B[49m\u001B[43m)\u001B[49m\n",
      "File \u001B[0;32m~/anaconda3/envs/NORMALPYTHON/lib/python3.9/site-packages/pandas/core/groupby/groupby.py:882\u001B[0m, in \u001B[0;36mGroupBy.__init__\u001B[0;34m(self, obj, keys, axis, level, grouper, exclusions, selection, as_index, sort, group_keys, squeeze, observed, mutated, dropna)\u001B[0m\n\u001B[1;32m    879\u001B[0m \u001B[38;5;28;01mif\u001B[39;00m grouper \u001B[38;5;129;01mis\u001B[39;00m \u001B[38;5;28;01mNone\u001B[39;00m:\n\u001B[1;32m    880\u001B[0m     \u001B[38;5;28;01mfrom\u001B[39;00m \u001B[38;5;21;01mpandas\u001B[39;00m\u001B[38;5;21;01m.\u001B[39;00m\u001B[38;5;21;01mcore\u001B[39;00m\u001B[38;5;21;01m.\u001B[39;00m\u001B[38;5;21;01mgroupby\u001B[39;00m\u001B[38;5;21;01m.\u001B[39;00m\u001B[38;5;21;01mgrouper\u001B[39;00m \u001B[38;5;28;01mimport\u001B[39;00m get_grouper\n\u001B[0;32m--> 882\u001B[0m     grouper, exclusions, obj \u001B[38;5;241m=\u001B[39m \u001B[43mget_grouper\u001B[49m\u001B[43m(\u001B[49m\n\u001B[1;32m    883\u001B[0m \u001B[43m        \u001B[49m\u001B[43mobj\u001B[49m\u001B[43m,\u001B[49m\n\u001B[1;32m    884\u001B[0m \u001B[43m        \u001B[49m\u001B[43mkeys\u001B[49m\u001B[43m,\u001B[49m\n\u001B[1;32m    885\u001B[0m \u001B[43m        \u001B[49m\u001B[43maxis\u001B[49m\u001B[38;5;241;43m=\u001B[39;49m\u001B[43maxis\u001B[49m\u001B[43m,\u001B[49m\n\u001B[1;32m    886\u001B[0m \u001B[43m        \u001B[49m\u001B[43mlevel\u001B[49m\u001B[38;5;241;43m=\u001B[39;49m\u001B[43mlevel\u001B[49m\u001B[43m,\u001B[49m\n\u001B[1;32m    887\u001B[0m \u001B[43m        \u001B[49m\u001B[43msort\u001B[49m\u001B[38;5;241;43m=\u001B[39;49m\u001B[43msort\u001B[49m\u001B[43m,\u001B[49m\n\u001B[1;32m    888\u001B[0m \u001B[43m        \u001B[49m\u001B[43mobserved\u001B[49m\u001B[38;5;241;43m=\u001B[39;49m\u001B[43mobserved\u001B[49m\u001B[43m,\u001B[49m\n\u001B[1;32m    889\u001B[0m \u001B[43m        \u001B[49m\u001B[43mmutated\u001B[49m\u001B[38;5;241;43m=\u001B[39;49m\u001B[38;5;28;43mself\u001B[39;49m\u001B[38;5;241;43m.\u001B[39;49m\u001B[43mmutated\u001B[49m\u001B[43m,\u001B[49m\n\u001B[1;32m    890\u001B[0m \u001B[43m        \u001B[49m\u001B[43mdropna\u001B[49m\u001B[38;5;241;43m=\u001B[39;49m\u001B[38;5;28;43mself\u001B[39;49m\u001B[38;5;241;43m.\u001B[39;49m\u001B[43mdropna\u001B[49m\u001B[43m,\u001B[49m\n\u001B[1;32m    891\u001B[0m \u001B[43m    \u001B[49m\u001B[43m)\u001B[49m\n\u001B[1;32m    893\u001B[0m \u001B[38;5;28mself\u001B[39m\u001B[38;5;241m.\u001B[39mobj \u001B[38;5;241m=\u001B[39m obj\n\u001B[1;32m    894\u001B[0m \u001B[38;5;28mself\u001B[39m\u001B[38;5;241m.\u001B[39maxis \u001B[38;5;241m=\u001B[39m obj\u001B[38;5;241m.\u001B[39m_get_axis_number(axis)\n",
      "File \u001B[0;32m~/anaconda3/envs/NORMALPYTHON/lib/python3.9/site-packages/pandas/core/groupby/grouper.py:882\u001B[0m, in \u001B[0;36mget_grouper\u001B[0;34m(obj, key, axis, level, sort, observed, mutated, validate, dropna)\u001B[0m\n\u001B[1;32m    880\u001B[0m         in_axis, level, gpr \u001B[38;5;241m=\u001B[39m \u001B[38;5;28;01mFalse\u001B[39;00m, gpr, \u001B[38;5;28;01mNone\u001B[39;00m\n\u001B[1;32m    881\u001B[0m     \u001B[38;5;28;01melse\u001B[39;00m:\n\u001B[0;32m--> 882\u001B[0m         \u001B[38;5;28;01mraise\u001B[39;00m \u001B[38;5;167;01mKeyError\u001B[39;00m(gpr)\n\u001B[1;32m    883\u001B[0m \u001B[38;5;28;01melif\u001B[39;00m \u001B[38;5;28misinstance\u001B[39m(gpr, Grouper) \u001B[38;5;129;01mand\u001B[39;00m gpr\u001B[38;5;241m.\u001B[39mkey \u001B[38;5;129;01mis\u001B[39;00m \u001B[38;5;129;01mnot\u001B[39;00m \u001B[38;5;28;01mNone\u001B[39;00m:\n\u001B[1;32m    884\u001B[0m     \u001B[38;5;66;03m# Add key to exclusions\u001B[39;00m\n\u001B[1;32m    885\u001B[0m     exclusions\u001B[38;5;241m.\u001B[39madd(gpr\u001B[38;5;241m.\u001B[39mkey)\n",
      "\u001B[0;31mKeyError\u001B[0m: 'HypoxiaDistribution'"
     ]
    }
   ],
   "execution_count": 9
  },
  {
   "metadata": {},
   "cell_type": "code",
   "source": "res_json1 = calculate_metrics(predict_result, samples_data, aim)",
   "id": "eb0c6245951cf0b2",
   "outputs": [],
   "execution_count": null
  },
  {
   "metadata": {},
   "cell_type": "markdown",
   "source": "## 汇总两个模型的效果",
   "id": "c11b994ef170c05"
  },
  {
   "metadata": {},
   "cell_type": "code",
   "source": [
    "# 画图比较res_json和res_json1中各aim中指标的Accuracy、Precision、Recall、F1的值\n",
    "# res_json和res_json1是字典，格式为{'accuracy': accuracy, 'recall': recall, 'precision': precision, 'f1_score': f1}\n",
    "\n",
    "import matplotlib.pyplot as plt\n",
    "\n",
    "def plot_comparison(res_json, res_json1, metrics_lst):\n",
    "    \"\"\"\n",
    "    绘图比较两个结果字典中各aim中指标的Accuracy、Precision、Recall、F1的值\n",
    "    :param res_json: 第一个结果字典\n",
    "    :param res_json1: 第二个结果字典\n",
    "    :param metrics_lst: 需要比较的指标列表\n",
    "    \"\"\"\n",
    "    aims = list(res_json.keys())\n",
    "    width = 0.35  # 柱状图的宽度\n",
    "\n",
    "    for aim in aims:\n",
    "        plt.figure(figsize=(5, 3))\n",
    "        x = metrics_lst  # x轴为指标名称\n",
    "        y1 = [res_json[aim][metric] for metric in metrics_lst]\n",
    "        y2 = [res_json1[aim][metric] for metric in metrics_lst]\n",
    "\n",
    "        plt.bar(x, y1, width, label='res_json')\n",
    "        plt.bar([p + width for p in range(len(x))], y2, width, label='res_json1')\n",
    "\n",
    "        plt.xlabel('Metrics')\n",
    "        plt.ylabel('Values')\n",
    "        plt.title(f'Comparison of Metrics for {aim}')\n",
    "        plt.xticks([p + width / 2 for p in range(len(x))], x)\n",
    "        plt.legend()\n",
    "        plt.show()\n",
    "\n",
    "plot_comparison(res_json, res_json1, ['accuracy', 'precision', 'recall', 'f1_score'])\n"
   ],
   "id": "bee9dc8085efac04",
   "outputs": [],
   "execution_count": null
  },
  {
   "metadata": {},
   "cell_type": "code",
   "source": [
    "def plot_comparison_f1(res_json, res_json1):\n",
    "    \"\"\"\n",
    "    绘一个图比较两个结果字典中各aim中指标的F1的值\n",
    "    :param res_json: 第一个结果字典\n",
    "    :param res_json1: 第二个结果字典\n",
    "    \"\"\"\n",
    "    aims = list(res_json.keys())\n",
    "    width = 0.35  # 柱状图的宽度\n",
    "\n",
    "    # 创建 x 轴标签\n",
    "    x = aims\n",
    "    x_indices = range(len(x))\n",
    "\n",
    "    # 提取 F1 值\n",
    "    y1 = [res_json[aim]['f1_score'] for aim in aims]\n",
    "    y2 = [res_json1[aim]['f1_score'] for aim in aims]\n",
    "\n",
    "    # 创建图形\n",
    "    plt.figure(figsize=(10, 6))\n",
    "    plt.bar(x_indices, y1, width, label='originalGraph')\n",
    "    plt.bar([i + width for i in x_indices], y2, width, label='MStarGraph')\n",
    "\n",
    "    # 设置图形属性\n",
    "    plt.xlabel('Aims')\n",
    "    plt.ylabel('F1 Score')\n",
    "    plt.title('Comparison of F1 Scores for Different Aims')\n",
    "    plt.xticks([i + width / 2 for i in x_indices], x)\n",
    "    plt.legend()\n",
    "\n",
    "    # 显示图形\n",
    "    plt.show()\n",
    "\n",
    "plot_comparison_f1(res_json, res_json1)"
   ],
   "id": "e64a9d73a8e22ac6",
   "outputs": [],
   "execution_count": null
  },
  {
   "metadata": {},
   "cell_type": "code",
   "source": "",
   "id": "219e0ffda099ca68",
   "outputs": [],
   "execution_count": null
  }
 ],
 "metadata": {
  "kernelspec": {
   "display_name": "Python 3",
   "language": "python",
   "name": "python3"
  },
  "language_info": {
   "codemirror_mode": {
    "name": "ipython",
    "version": 2
   },
   "file_extension": ".py",
   "mimetype": "text/x-python",
   "name": "python",
   "nbconvert_exporter": "python",
   "pygments_lexer": "ipython2",
   "version": "2.7.6"
  }
 },
 "nbformat": 4,
 "nbformat_minor": 5
}
